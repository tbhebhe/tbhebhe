{
 "cells": [
  {
   "cell_type": "markdown",
   "metadata": {
    "application/vnd.databricks.v1+cell": {
     "cellMetadata": {
      "byteLimit": 2048000,
      "rowLimit": 10000
     },
     "inputWidgets": {},
     "nuid": "5d2f1219-1aa9-40a1-b671-6966d876bddf",
     "showTitle": false,
     "title": ""
    }
   },
   "source": [
    "**Import Libraries**"
   ]
  },
  {
   "cell_type": "code",
   "execution_count": 0,
   "metadata": {
    "application/vnd.databricks.v1+cell": {
     "cellMetadata": {
      "byteLimit": 2048000,
      "rowLimit": 10000
     },
     "inputWidgets": {},
     "nuid": "87f30e6d-0b5f-470c-9b01-8806a6d5f1d0",
     "showTitle": false,
     "title": ""
    }
   },
   "outputs": [],
   "source": [
    "import pandas as pd\n",
    "import numpy as np\n",
    "from functools import reduce\n",
    "from pyspark.sql.functions import *\n",
    "from pyspark.sql.types import DateType\n",
    "from pyspark.sql import SparkSession\n",
    "from pyspark.sql.window import Window\n",
    "from pyspark.sql.functions import col, when\n",
    "import pyspark.sql.functions as F\n",
    "from pyspark.sql.functions import format_number \n"
   ]
  },
  {
   "cell_type": "markdown",
   "metadata": {
    "application/vnd.databricks.v1+cell": {
     "cellMetadata": {
      "byteLimit": 2048000,
      "rowLimit": 10000
     },
     "inputWidgets": {},
     "nuid": "fd6f61d2-3d00-49a4-95ac-24a0f498615c",
     "showTitle": false,
     "title": ""
    }
   },
   "source": [
    "**Load location data**<br>\n",
    "-Drop all null values "
   ]
  },
  {
   "cell_type": "code",
   "execution_count": 0,
   "metadata": {
    "application/vnd.databricks.v1+cell": {
     "cellMetadata": {
      "byteLimit": 2048000,
      "rowLimit": 10000
     },
     "inputWidgets": {},
     "nuid": "825d645a-f485-44b8-b35f-7995f2d69f05",
     "showTitle": false,
     "title": ""
    }
   },
   "outputs": [
    {
     "output_type": "display_data",
     "data": {
      "text/html": [
       "<style scoped>\n",
       "  .table-result-container {\n",
       "    max-height: 300px;\n",
       "    overflow: auto;\n",
       "  }\n",
       "  table, th, td {\n",
       "    border: 1px solid black;\n",
       "    border-collapse: collapse;\n",
       "  }\n",
       "  th, td {\n",
       "    padding: 5px;\n",
       "  }\n",
       "  th {\n",
       "    text-align: left;\n",
       "  }\n",
       "</style><div class='table-result-container'><table class='table-result'><thead style='background-color: white'><tr><th>tSaddress</th><th>tDaddress</th><th>tStartLat</th><th>tStartLong</th><th>tEndLat</th><th>tEndLong</th></tr></thead><tbody><tr><td>86 Union Ave, Harare, Zimbabwe</td><td>Kapoto Restaurant, Chelmsford Road, Harare, Zimbabwe</td><td>-17.826984772255297</td><td>31.051359772682186</td><td>-17.7926959</td><td>31.0426273</td></tr><tr><td>Takaruza St, Harare, Zimbabwe</td><td>1906 Borrowdale Rd, Harare, Zimbabwe</td><td>-17.915548323393555</td><td>30.96475627273321</td><td>-17.7834421</td><td>31.0796598</td></tr><tr><td>1906 Borrowdale Rd, Harare, Zimbabwe</td><td>3XG4+5R Harare, Zimbabwe</td><td>-17.783321948224483</td><td>31.079784147441387</td><td>-17.9246189</td><td>30.9570884</td></tr><tr><td>3XG4+2Q Harare, Zimbabwe</td><td>638H+FRX, Harare, Zimbabwe</td><td>-17.924987203496016</td><td>30.95699865370989</td><td>-17.7838185</td><td>31.0797282</td></tr><tr><td>3XG4+2R Harare, Zimbabwe</td><td>1906 Borrowdale Rd, Harare, Zimbabwe</td><td>-17.924960407333128</td><td>30.957011058926582</td><td>-17.7836974</td><td>31.0797237</td></tr></tbody></table></div>"
      ]
     },
     "metadata": {
      "application/vnd.databricks.v1+output": {
       "addedWidgets": {},
       "aggData": [],
       "aggError": "",
       "aggOverflow": false,
       "aggSchema": [],
       "aggSeriesLimitReached": false,
       "aggType": "",
       "arguments": {},
       "columnCustomDisplayInfos": {},
       "data": [
        [
         "86 Union Ave, Harare, Zimbabwe",
         "Kapoto Restaurant, Chelmsford Road, Harare, Zimbabwe",
         "-17.826984772255297",
         31.051359772682186,
         -17.7926959,
         31.0426273
        ],
        [
         "Takaruza St, Harare, Zimbabwe",
         "1906 Borrowdale Rd, Harare, Zimbabwe",
         "-17.915548323393555",
         30.96475627273321,
         -17.7834421,
         31.0796598
        ],
        [
         "1906 Borrowdale Rd, Harare, Zimbabwe",
         "3XG4+5R Harare, Zimbabwe",
         "-17.783321948224483",
         31.079784147441387,
         -17.9246189,
         30.9570884
        ],
        [
         "3XG4+2Q Harare, Zimbabwe",
         "638H+FRX, Harare, Zimbabwe",
         "-17.924987203496016",
         30.95699865370989,
         -17.7838185,
         31.0797282
        ],
        [
         "3XG4+2R Harare, Zimbabwe",
         "1906 Borrowdale Rd, Harare, Zimbabwe",
         "-17.924960407333128",
         30.957011058926582,
         -17.7836974,
         31.0797237
        ]
       ],
       "datasetInfos": [],
       "dbfsResultPath": null,
       "isJsonSchema": true,
       "metadata": {},
       "overflow": false,
       "plotOptions": {
        "customPlotOptions": {},
        "displayType": "table",
        "pivotAggregation": null,
        "pivotColumns": null,
        "xColumns": null,
        "yColumns": null
       },
       "removedWidgets": [],
       "schema": [
        {
         "metadata": "{}",
         "name": "tSaddress",
         "type": "\"string\""
        },
        {
         "metadata": "{}",
         "name": "tDaddress",
         "type": "\"string\""
        },
        {
         "metadata": "{}",
         "name": "tStartLat",
         "type": "\"string\""
        },
        {
         "metadata": "{}",
         "name": "tStartLong",
         "type": "\"double\""
        },
        {
         "metadata": "{}",
         "name": "tEndLat",
         "type": "\"double\""
        },
        {
         "metadata": "{}",
         "name": "tEndLong",
         "type": "\"double\""
        }
       ],
       "type": "table"
      }
     },
     "output_type": "display_data"
    }
   ],
   "source": [
    "Area = spark.read.table(\"default.area_data\").dropna()\n",
    "Area.limit(5).display()"
   ]
  },
  {
   "cell_type": "markdown",
   "metadata": {
    "application/vnd.databricks.v1+cell": {
     "cellMetadata": {
      "byteLimit": 2048000,
      "rowLimit": 10000
     },
     "inputWidgets": {},
     "nuid": "894fafda-ab9f-41d9-ad0b-6bbb56111a0f",
     "showTitle": false,
     "title": ""
    }
   },
   "source": [
    "**Start site**<br>\n",
    "-Select starting address, latitude and longtude"
   ]
  },
  {
   "cell_type": "code",
   "execution_count": 0,
   "metadata": {
    "application/vnd.databricks.v1+cell": {
     "cellMetadata": {
      "byteLimit": 2048000,
      "rowLimit": 10000
     },
     "inputWidgets": {},
     "nuid": "8b1be6b9-6d84-4223-9c95-19144b194da2",
     "showTitle": false,
     "title": ""
    }
   },
   "outputs": [
    {
     "output_type": "display_data",
     "data": {
      "text/html": [
       "<style scoped>\n",
       "  .table-result-container {\n",
       "    max-height: 300px;\n",
       "    overflow: auto;\n",
       "  }\n",
       "  table, th, td {\n",
       "    border: 1px solid black;\n",
       "    border-collapse: collapse;\n",
       "  }\n",
       "  th, td {\n",
       "    padding: 5px;\n",
       "  }\n",
       "  th {\n",
       "    text-align: left;\n",
       "  }\n",
       "</style><div class='table-result-container'><table class='table-result'><thead style='background-color: white'><tr><th>tSaddress</th><th>tStartLat</th><th>tStartLong</th></tr></thead><tbody><tr><td>86 Union Ave, Harare, Zimbabwe</td><td>-17.826984772255297</td><td>31.051359772682186</td></tr><tr><td>Takaruza St, Harare, Zimbabwe</td><td>-17.915548323393555</td><td>30.96475627273321</td></tr><tr><td>1906 Borrowdale Rd, Harare, Zimbabwe</td><td>-17.783321948224483</td><td>31.079784147441387</td></tr><tr><td>3XG4+2Q Harare, Zimbabwe</td><td>-17.924987203496016</td><td>30.95699865370989</td></tr><tr><td>3XG4+2R Harare, Zimbabwe</td><td>-17.924960407333128</td><td>30.957011058926582</td></tr></tbody></table></div>"
      ]
     },
     "metadata": {
      "application/vnd.databricks.v1+output": {
       "addedWidgets": {},
       "aggData": [],
       "aggError": "",
       "aggOverflow": false,
       "aggSchema": [],
       "aggSeriesLimitReached": false,
       "aggType": "",
       "arguments": {},
       "columnCustomDisplayInfos": {},
       "data": [
        [
         "86 Union Ave, Harare, Zimbabwe",
         "-17.826984772255297",
         31.051359772682186
        ],
        [
         "Takaruza St, Harare, Zimbabwe",
         "-17.915548323393555",
         30.96475627273321
        ],
        [
         "1906 Borrowdale Rd, Harare, Zimbabwe",
         "-17.783321948224483",
         31.079784147441387
        ],
        [
         "3XG4+2Q Harare, Zimbabwe",
         "-17.924987203496016",
         30.95699865370989
        ],
        [
         "3XG4+2R Harare, Zimbabwe",
         "-17.924960407333128",
         30.957011058926582
        ]
       ],
       "datasetInfos": [],
       "dbfsResultPath": null,
       "isJsonSchema": true,
       "metadata": {},
       "overflow": false,
       "plotOptions": {
        "customPlotOptions": {},
        "displayType": "table",
        "pivotAggregation": null,
        "pivotColumns": null,
        "xColumns": null,
        "yColumns": null
       },
       "removedWidgets": [],
       "schema": [
        {
         "metadata": "{}",
         "name": "tSaddress",
         "type": "\"string\""
        },
        {
         "metadata": "{}",
         "name": "tStartLat",
         "type": "\"string\""
        },
        {
         "metadata": "{}",
         "name": "tStartLong",
         "type": "\"double\""
        }
       ],
       "type": "table"
      }
     },
     "output_type": "display_data"
    }
   ],
   "source": [
    "\n",
    "StartSite = Area.select(\"tSaddress\", \"tStartLat\",\n",
    "\"tStartLong\").limit(5)\n",
    "StartSite.display()"
   ]
  },
  {
   "cell_type": "markdown",
   "metadata": {
    "application/vnd.databricks.v1+cell": {
     "cellMetadata": {
      "byteLimit": 2048000,
      "rowLimit": 10000
     },
     "inputWidgets": {},
     "nuid": "ce4e8771-5e09-4297-89e4-afd18a872dae",
     "showTitle": false,
     "title": ""
    }
   },
   "source": [
    "**Start site**<br>\n",
    "-Select ending address, latitude and longtude"
   ]
  },
  {
   "cell_type": "code",
   "execution_count": 0,
   "metadata": {
    "application/vnd.databricks.v1+cell": {
     "cellMetadata": {
      "byteLimit": 2048000,
      "rowLimit": 10000
     },
     "inputWidgets": {},
     "nuid": "089d823a-eb96-4464-a333-aa1bc47c9162",
     "showTitle": false,
     "title": ""
    }
   },
   "outputs": [
    {
     "output_type": "display_data",
     "data": {
      "text/html": [
       "<style scoped>\n",
       "  .table-result-container {\n",
       "    max-height: 300px;\n",
       "    overflow: auto;\n",
       "  }\n",
       "  table, th, td {\n",
       "    border: 1px solid black;\n",
       "    border-collapse: collapse;\n",
       "  }\n",
       "  th, td {\n",
       "    padding: 5px;\n",
       "  }\n",
       "  th {\n",
       "    text-align: left;\n",
       "  }\n",
       "</style><div class='table-result-container'><table class='table-result'><thead style='background-color: white'><tr><th>tDaddress</th><th>tEndLat</th><th>tEndLong</th></tr></thead><tbody><tr><td>Kapoto Restaurant, Chelmsford Road, Harare, Zimbabwe</td><td>-17.7926959</td><td>31.0426273</td></tr><tr><td>1906 Borrowdale Rd, Harare, Zimbabwe</td><td>-17.7834421</td><td>31.0796598</td></tr><tr><td>3XG4+5R Harare, Zimbabwe</td><td>-17.9246189</td><td>30.9570884</td></tr><tr><td>638H+FRX, Harare, Zimbabwe</td><td>-17.7838185</td><td>31.0797282</td></tr><tr><td>1906 Borrowdale Rd, Harare, Zimbabwe</td><td>-17.7836974</td><td>31.0797237</td></tr></tbody></table></div>"
      ]
     },
     "metadata": {
      "application/vnd.databricks.v1+output": {
       "addedWidgets": {},
       "aggData": [],
       "aggError": "",
       "aggOverflow": false,
       "aggSchema": [],
       "aggSeriesLimitReached": false,
       "aggType": "",
       "arguments": {},
       "columnCustomDisplayInfos": {},
       "data": [
        [
         "Kapoto Restaurant, Chelmsford Road, Harare, Zimbabwe",
         -17.7926959,
         31.0426273
        ],
        [
         "1906 Borrowdale Rd, Harare, Zimbabwe",
         -17.7834421,
         31.0796598
        ],
        [
         "3XG4+5R Harare, Zimbabwe",
         -17.9246189,
         30.9570884
        ],
        [
         "638H+FRX, Harare, Zimbabwe",
         -17.7838185,
         31.0797282
        ],
        [
         "1906 Borrowdale Rd, Harare, Zimbabwe",
         -17.7836974,
         31.0797237
        ]
       ],
       "datasetInfos": [],
       "dbfsResultPath": null,
       "isJsonSchema": true,
       "metadata": {},
       "overflow": false,
       "plotOptions": {
        "customPlotOptions": {},
        "displayType": "table",
        "pivotAggregation": null,
        "pivotColumns": null,
        "xColumns": null,
        "yColumns": null
       },
       "removedWidgets": [],
       "schema": [
        {
         "metadata": "{}",
         "name": "tDaddress",
         "type": "\"string\""
        },
        {
         "metadata": "{}",
         "name": "tEndLat",
         "type": "\"double\""
        },
        {
         "metadata": "{}",
         "name": "tEndLong",
         "type": "\"double\""
        }
       ],
       "type": "table"
      }
     },
     "output_type": "display_data"
    }
   ],
   "source": [
    "\n",
    "EndSite = Area.select(\"tDaddress\", \"tEndLat\",\n",
    "\"tEndLong\").limit(5)\n",
    "EndSite.display()\n"
   ]
  },
  {
   "cell_type": "markdown",
   "metadata": {
    "application/vnd.databricks.v1+cell": {
     "cellMetadata": {
      "byteLimit": 2048000,
      "rowLimit": 10000
     },
     "inputWidgets": {},
     "nuid": "edb146b1-c706-4f1d-b31e-90e7e087a2d5",
     "showTitle": false,
     "title": ""
    }
   },
   "source": [
    "**Convert starting and Ending site to SQL tables**"
   ]
  },
  {
   "cell_type": "code",
   "execution_count": 0,
   "metadata": {
    "application/vnd.databricks.v1+cell": {
     "cellMetadata": {
      "byteLimit": 2048000,
      "rowLimit": 10000
     },
     "inputWidgets": {},
     "nuid": "e1a4c0df-404d-43cc-ba8b-0d3417894530",
     "showTitle": false,
     "title": ""
    }
   },
   "outputs": [],
   "source": [
    "StartSite.createOrReplaceTempView(\"StartSite\")\n",
    "EndSite.createOrReplaceTempView(\"EndSite\")"
   ]
  },
  {
   "cell_type": "markdown",
   "metadata": {
    "application/vnd.databricks.v1+cell": {
     "cellMetadata": {
      "byteLimit": 2048000,
      "rowLimit": 10000
     },
     "inputWidgets": {},
     "nuid": "90874342-4314-4f6f-9639-3fde3b849c35",
     "showTitle": false,
     "title": ""
    }
   },
   "source": [
    "**Perfom a cross join**<br>\n",
    "-Cross join starting and ending site<br>\n",
    "-Table name is sites_combined"
   ]
  },
  {
   "cell_type": "code",
   "execution_count": 0,
   "metadata": {
    "application/vnd.databricks.v1+cell": {
     "cellMetadata": {
      "byteLimit": 2048000,
      "implicitDf": true,
      "rowLimit": 10000
     },
     "inputWidgets": {},
     "nuid": "d2436553-7464-4966-b725-635b0b01c2d4",
     "showTitle": false,
     "title": ""
    }
   },
   "outputs": [
    {
     "output_type": "display_data",
     "data": {
      "text/html": [
       "<style scoped>\n",
       "  .table-result-container {\n",
       "    max-height: 300px;\n",
       "    overflow: auto;\n",
       "  }\n",
       "  table, th, td {\n",
       "    border: 1px solid black;\n",
       "    border-collapse: collapse;\n",
       "  }\n",
       "  th, td {\n",
       "    padding: 5px;\n",
       "  }\n",
       "  th {\n",
       "    text-align: left;\n",
       "  }\n",
       "</style><div class='table-result-container'><table class='table-result'><thead style='background-color: white'><tr></tr></thead><tbody></tbody></table></div>"
      ]
     },
     "metadata": {
      "application/vnd.databricks.v1+output": {
       "addedWidgets": {},
       "aggData": [],
       "aggError": "",
       "aggOverflow": false,
       "aggSchema": [],
       "aggSeriesLimitReached": false,
       "aggType": "",
       "arguments": {},
       "columnCustomDisplayInfos": {},
       "data": [],
       "datasetInfos": [],
       "dbfsResultPath": null,
       "isJsonSchema": true,
       "metadata": {
        "dataframeName": null
       },
       "overflow": false,
       "plotOptions": {
        "customPlotOptions": {},
        "displayType": "table",
        "pivotAggregation": null,
        "pivotColumns": null,
        "xColumns": null,
        "yColumns": null
       },
       "removedWidgets": [],
       "schema": [],
       "type": "table"
      }
     },
     "output_type": "display_data"
    }
   ],
   "source": [
    "%sql\n",
    "Create or replace temp view sites_combined as \n",
    "  select * from StartSite  cross join EndSite\n"
   ]
  },
  {
   "cell_type": "code",
   "execution_count": 0,
   "metadata": {
    "application/vnd.databricks.v1+cell": {
     "cellMetadata": {
      "byteLimit": 2048000,
      "implicitDf": true,
      "rowLimit": 10000
     },
     "inputWidgets": {},
     "nuid": "4e258f46-4c83-4e23-a679-21cf1fc21ca7",
     "showTitle": false,
     "title": ""
    }
   },
   "outputs": [
    {
     "output_type": "display_data",
     "data": {
      "text/html": [
       "<style scoped>\n",
       "  .table-result-container {\n",
       "    max-height: 300px;\n",
       "    overflow: auto;\n",
       "  }\n",
       "  table, th, td {\n",
       "    border: 1px solid black;\n",
       "    border-collapse: collapse;\n",
       "  }\n",
       "  th, td {\n",
       "    padding: 5px;\n",
       "  }\n",
       "  th {\n",
       "    text-align: left;\n",
       "  }\n",
       "</style><div class='table-result-container'><table class='table-result'><thead style='background-color: white'><tr><th>tSaddress</th><th>tStartLat</th><th>tStartLong</th><th>tDaddress</th><th>tEndLat</th><th>tEndLong</th></tr></thead><tbody><tr><td>86 Union Ave, Harare, Zimbabwe</td><td>-17.826984772255297</td><td>31.051359772682186</td><td>Kapoto Restaurant, Chelmsford Road, Harare, Zimbabwe</td><td>-17.7926959</td><td>31.0426273</td></tr><tr><td>Takaruza St, Harare, Zimbabwe</td><td>-17.915548323393555</td><td>30.96475627273321</td><td>Kapoto Restaurant, Chelmsford Road, Harare, Zimbabwe</td><td>-17.7926959</td><td>31.0426273</td></tr><tr><td>1906 Borrowdale Rd, Harare, Zimbabwe</td><td>-17.783321948224483</td><td>31.079784147441387</td><td>Kapoto Restaurant, Chelmsford Road, Harare, Zimbabwe</td><td>-17.7926959</td><td>31.0426273</td></tr><tr><td>3XG4+2Q Harare, Zimbabwe</td><td>-17.924987203496016</td><td>30.95699865370989</td><td>Kapoto Restaurant, Chelmsford Road, Harare, Zimbabwe</td><td>-17.7926959</td><td>31.0426273</td></tr><tr><td>3XG4+2R Harare, Zimbabwe</td><td>-17.924960407333128</td><td>30.957011058926582</td><td>Kapoto Restaurant, Chelmsford Road, Harare, Zimbabwe</td><td>-17.7926959</td><td>31.0426273</td></tr></tbody></table></div>"
      ]
     },
     "metadata": {
      "application/vnd.databricks.v1+output": {
       "addedWidgets": {},
       "aggData": [],
       "aggError": "",
       "aggOverflow": false,
       "aggSchema": [],
       "aggSeriesLimitReached": false,
       "aggType": "",
       "arguments": {},
       "columnCustomDisplayInfos": {},
       "data": [
        [
         "86 Union Ave, Harare, Zimbabwe",
         "-17.826984772255297",
         31.051359772682186,
         "Kapoto Restaurant, Chelmsford Road, Harare, Zimbabwe",
         -17.7926959,
         31.0426273
        ],
        [
         "Takaruza St, Harare, Zimbabwe",
         "-17.915548323393555",
         30.96475627273321,
         "Kapoto Restaurant, Chelmsford Road, Harare, Zimbabwe",
         -17.7926959,
         31.0426273
        ],
        [
         "1906 Borrowdale Rd, Harare, Zimbabwe",
         "-17.783321948224483",
         31.079784147441387,
         "Kapoto Restaurant, Chelmsford Road, Harare, Zimbabwe",
         -17.7926959,
         31.0426273
        ],
        [
         "3XG4+2Q Harare, Zimbabwe",
         "-17.924987203496016",
         30.95699865370989,
         "Kapoto Restaurant, Chelmsford Road, Harare, Zimbabwe",
         -17.7926959,
         31.0426273
        ],
        [
         "3XG4+2R Harare, Zimbabwe",
         "-17.924960407333128",
         30.957011058926582,
         "Kapoto Restaurant, Chelmsford Road, Harare, Zimbabwe",
         -17.7926959,
         31.0426273
        ]
       ],
       "datasetInfos": [],
       "dbfsResultPath": null,
       "isJsonSchema": true,
       "metadata": {
        "dataframeName": "_sqldf",
        "executionCount": 7
       },
       "overflow": false,
       "plotOptions": {
        "customPlotOptions": {},
        "displayType": "table",
        "pivotAggregation": null,
        "pivotColumns": null,
        "xColumns": null,
        "yColumns": null
       },
       "removedWidgets": [],
       "schema": [
        {
         "metadata": "{}",
         "name": "tSaddress",
         "type": "\"string\""
        },
        {
         "metadata": "{}",
         "name": "tStartLat",
         "type": "\"string\""
        },
        {
         "metadata": "{}",
         "name": "tStartLong",
         "type": "\"double\""
        },
        {
         "metadata": "{}",
         "name": "tDaddress",
         "type": "\"string\""
        },
        {
         "metadata": "{}",
         "name": "tEndLat",
         "type": "\"double\""
        },
        {
         "metadata": "{}",
         "name": "tEndLong",
         "type": "\"double\""
        }
       ],
       "type": "table"
      }
     },
     "output_type": "display_data"
    }
   ],
   "source": [
    "%sql\n",
    "SELECT* FROM sites_combined limit 5\n"
   ]
  },
  {
   "cell_type": "markdown",
   "metadata": {
    "application/vnd.databricks.v1+cell": {
     "cellMetadata": {
      "byteLimit": 2048000,
      "rowLimit": 10000
     },
     "inputWidgets": {},
     "nuid": "ee7d24d9-b028-43f2-8e0c-b94067f53ea7",
     "showTitle": false,
     "title": ""
    }
   },
   "source": [
    "**Calculate x and y values**<br>\n",
    "-There is need to calculate the x n y values using the code below."
   ]
  },
  {
   "cell_type": "code",
   "execution_count": 0,
   "metadata": {
    "application/vnd.databricks.v1+cell": {
     "cellMetadata": {
      "byteLimit": 2048000,
      "implicitDf": true,
      "rowLimit": 10000
     },
     "inputWidgets": {},
     "nuid": "2c2ee673-af53-4a96-af4c-ebea0f969713",
     "showTitle": false,
     "title": ""
    }
   },
   "outputs": [
    {
     "output_type": "display_data",
     "data": {
      "text/html": [
       "<style scoped>\n",
       "  .table-result-container {\n",
       "    max-height: 300px;\n",
       "    overflow: auto;\n",
       "  }\n",
       "  table, th, td {\n",
       "    border: 1px solid black;\n",
       "    border-collapse: collapse;\n",
       "  }\n",
       "  th, td {\n",
       "    padding: 5px;\n",
       "  }\n",
       "  th {\n",
       "    text-align: left;\n",
       "  }\n",
       "</style><div class='table-result-container'><table class='table-result'><thead style='background-color: white'><tr></tr></thead><tbody></tbody></table></div>"
      ]
     },
     "metadata": {
      "application/vnd.databricks.v1+output": {
       "addedWidgets": {},
       "aggData": [],
       "aggError": "",
       "aggOverflow": false,
       "aggSchema": [],
       "aggSeriesLimitReached": false,
       "aggType": "",
       "arguments": {},
       "columnCustomDisplayInfos": {},
       "data": [],
       "datasetInfos": [],
       "dbfsResultPath": null,
       "isJsonSchema": true,
       "metadata": {
        "dataframeName": null
       },
       "overflow": false,
       "plotOptions": {
        "customPlotOptions": {},
        "displayType": "table",
        "pivotAggregation": null,
        "pivotColumns": null,
        "xColumns": null,
        "yColumns": null
       },
       "removedWidgets": [],
       "schema": [],
       "type": "table"
      }
     },
     "output_type": "display_data"
    }
   ],
   "source": [
    "%sql\n",
    "Create or replace temp view sites_combined_one as \n",
    "  select tSaddress, tDaddress, tStartLat,tStartLong, tEndLat, tEndLong, 69.1*(tEndLat -tStartLat) x, 69.1*(tEndLong -tStartLong)*cos(tStartLat/57.3) y\n",
    "  from sites_combined\n"
   ]
  },
  {
   "cell_type": "markdown",
   "metadata": {
    "application/vnd.databricks.v1+cell": {
     "cellMetadata": {
      "byteLimit": 2048000,
      "rowLimit": 10000
     },
     "inputWidgets": {},
     "nuid": "b7435293-9a82-47bc-b674-5546b510b5e2",
     "showTitle": false,
     "title": ""
    }
   },
   "source": [
    "**Display the table with x n y**"
   ]
  },
  {
   "cell_type": "code",
   "execution_count": 0,
   "metadata": {
    "application/vnd.databricks.v1+cell": {
     "cellMetadata": {
      "byteLimit": 2048000,
      "implicitDf": true,
      "rowLimit": 10000
     },
     "inputWidgets": {},
     "nuid": "fbcf640c-633b-4a38-afa1-5dd1c1b4417e",
     "showTitle": false,
     "title": ""
    }
   },
   "outputs": [
    {
     "output_type": "display_data",
     "data": {
      "text/html": [
       "<style scoped>\n",
       "  .table-result-container {\n",
       "    max-height: 300px;\n",
       "    overflow: auto;\n",
       "  }\n",
       "  table, th, td {\n",
       "    border: 1px solid black;\n",
       "    border-collapse: collapse;\n",
       "  }\n",
       "  th, td {\n",
       "    padding: 5px;\n",
       "  }\n",
       "  th {\n",
       "    text-align: left;\n",
       "  }\n",
       "</style><div class='table-result-container'><table class='table-result'><thead style='background-color: white'><tr><th>tSaddress</th><th>tDaddress</th><th>tStartLat</th><th>tStartLong</th><th>tEndLat</th><th>tEndLong</th><th>x</th><th>y</th></tr></thead><tbody><tr><td>86 Union Ave, Harare, Zimbabwe</td><td>Kapoto Restaurant, Chelmsford Road, Harare, Zimbabwe</td><td>-17.826984772255297</td><td>31.051359772682186</td><td>-17.7926959</td><td>31.0426273</td><td>2.3693610728411745</td><td>-0.5744453679232016</td></tr><tr><td>86 Union Ave, Harare, Zimbabwe</td><td>1906 Borrowdale Rd, Harare, Zimbabwe</td><td>-17.826984772255297</td><td>31.051359772682186</td><td>-17.7834421</td><td>31.0796598</td><td>3.008798652841157</td><td>1.8616513554037046</td></tr><tr><td>86 Union Ave, Harare, Zimbabwe</td><td>3XG4+5R Harare, Zimbabwe</td><td>-17.826984772255297</td><td>31.051359772682186</td><td>-17.9246189</td><td>30.9570884</td><td>-6.746518227158856</td><td>-6.201422590821307</td></tr><tr><td>86 Union Ave, Harare, Zimbabwe</td><td>638H+FRX, Harare, Zimbabwe</td><td>-17.826984772255297</td><td>31.051359772682186</td><td>-17.7838185</td><td>31.0797282</td><td>2.9827894128411305</td><td>1.8661508900253334</td></tr><tr><td>86 Union Ave, Harare, Zimbabwe</td><td>1906 Borrowdale Rd, Harare, Zimbabwe</td><td>-17.826984772255297</td><td>31.051359772682186</td><td>-17.7836974</td><td>31.0797237</td><td>2.9911574228409683</td><td>1.865854868010565</td></tr></tbody></table></div>"
      ]
     },
     "metadata": {
      "application/vnd.databricks.v1+output": {
       "addedWidgets": {},
       "aggData": [],
       "aggError": "",
       "aggOverflow": false,
       "aggSchema": [],
       "aggSeriesLimitReached": false,
       "aggType": "",
       "arguments": {},
       "columnCustomDisplayInfos": {},
       "data": [
        [
         "86 Union Ave, Harare, Zimbabwe",
         "Kapoto Restaurant, Chelmsford Road, Harare, Zimbabwe",
         "-17.826984772255297",
         31.051359772682186,
         -17.7926959,
         31.0426273,
         2.3693610728411745,
         -0.5744453679232016
        ],
        [
         "86 Union Ave, Harare, Zimbabwe",
         "1906 Borrowdale Rd, Harare, Zimbabwe",
         "-17.826984772255297",
         31.051359772682186,
         -17.7834421,
         31.0796598,
         3.008798652841157,
         1.8616513554037046
        ],
        [
         "86 Union Ave, Harare, Zimbabwe",
         "3XG4+5R Harare, Zimbabwe",
         "-17.826984772255297",
         31.051359772682186,
         -17.9246189,
         30.9570884,
         -6.746518227158856,
         -6.201422590821307
        ],
        [
         "86 Union Ave, Harare, Zimbabwe",
         "638H+FRX, Harare, Zimbabwe",
         "-17.826984772255297",
         31.051359772682186,
         -17.7838185,
         31.0797282,
         2.9827894128411305,
         1.8661508900253334
        ],
        [
         "86 Union Ave, Harare, Zimbabwe",
         "1906 Borrowdale Rd, Harare, Zimbabwe",
         "-17.826984772255297",
         31.051359772682186,
         -17.7836974,
         31.0797237,
         2.9911574228409683,
         1.865854868010565
        ]
       ],
       "datasetInfos": [],
       "dbfsResultPath": null,
       "isJsonSchema": true,
       "metadata": {
        "dataframeName": "_sqldf",
        "executionCount": 8
       },
       "overflow": false,
       "plotOptions": {
        "customPlotOptions": {},
        "displayType": "table",
        "pivotAggregation": null,
        "pivotColumns": null,
        "xColumns": null,
        "yColumns": null
       },
       "removedWidgets": [],
       "schema": [
        {
         "metadata": "{}",
         "name": "tSaddress",
         "type": "\"string\""
        },
        {
         "metadata": "{}",
         "name": "tDaddress",
         "type": "\"string\""
        },
        {
         "metadata": "{}",
         "name": "tStartLat",
         "type": "\"string\""
        },
        {
         "metadata": "{}",
         "name": "tStartLong",
         "type": "\"double\""
        },
        {
         "metadata": "{}",
         "name": "tEndLat",
         "type": "\"double\""
        },
        {
         "metadata": "{}",
         "name": "tEndLong",
         "type": "\"double\""
        },
        {
         "metadata": "{}",
         "name": "x",
         "type": "\"double\""
        },
        {
         "metadata": "{}",
         "name": "y",
         "type": "\"double\""
        }
       ],
       "type": "table"
      }
     },
     "output_type": "display_data"
    }
   ],
   "source": [
    "%sql\n",
    "SELECT* FROM sites_combined_one limit 5"
   ]
  },
  {
   "cell_type": "markdown",
   "metadata": {
    "application/vnd.databricks.v1+cell": {
     "cellMetadata": {
      "byteLimit": 2048000,
      "rowLimit": 10000
     },
     "inputWidgets": {},
     "nuid": "defb5faf-7616-4785-a0ed-e6bb002beee2",
     "showTitle": false,
     "title": ""
    }
   },
   "source": [
    "**Distance**<br>\n",
    "-Calculate distance using fomula below and create the distance column"
   ]
  },
  {
   "cell_type": "code",
   "execution_count": 0,
   "metadata": {
    "application/vnd.databricks.v1+cell": {
     "cellMetadata": {
      "byteLimit": 2048000,
      "implicitDf": true,
      "rowLimit": 10000
     },
     "inputWidgets": {},
     "nuid": "187ae9d0-10ee-4aa2-a224-3f1beda17d16",
     "showTitle": false,
     "title": ""
    }
   },
   "outputs": [
    {
     "output_type": "display_data",
     "data": {
      "text/html": [
       "<style scoped>\n",
       "  .table-result-container {\n",
       "    max-height: 300px;\n",
       "    overflow: auto;\n",
       "  }\n",
       "  table, th, td {\n",
       "    border: 1px solid black;\n",
       "    border-collapse: collapse;\n",
       "  }\n",
       "  th, td {\n",
       "    padding: 5px;\n",
       "  }\n",
       "  th {\n",
       "    text-align: left;\n",
       "  }\n",
       "</style><div class='table-result-container'><table class='table-result'><thead style='background-color: white'><tr></tr></thead><tbody></tbody></table></div>"
      ]
     },
     "metadata": {
      "application/vnd.databricks.v1+output": {
       "addedWidgets": {},
       "aggData": [],
       "aggError": "",
       "aggOverflow": false,
       "aggSchema": [],
       "aggSeriesLimitReached": false,
       "aggType": "",
       "arguments": {},
       "columnCustomDisplayInfos": {},
       "data": [],
       "datasetInfos": [],
       "dbfsResultPath": null,
       "isJsonSchema": true,
       "metadata": {
        "dataframeName": null
       },
       "overflow": false,
       "plotOptions": {
        "customPlotOptions": {},
        "displayType": "table",
        "pivotAggregation": null,
        "pivotColumns": null,
        "xColumns": null,
        "yColumns": null
       },
       "removedWidgets": [],
       "schema": [],
       "type": "table"
      }
     },
     "output_type": "display_data"
    }
   ],
   "source": [
    "%sql\n",
    "Create or replace temp view sites_combined_two as \n",
    "  select tSaddress,tDaddress, tStartLat, tStartLong, tEndLat,tEndLong, SQRT(POWER(x,2) + POWER(y,2))*1.60933 distance_km\n",
    "  from sites_combined_one"
   ]
  },
  {
   "cell_type": "markdown",
   "metadata": {
    "application/vnd.databricks.v1+cell": {
     "cellMetadata": {},
     "inputWidgets": {},
     "nuid": "6f54c6a5-1c3c-4161-bb70-1138ced4439a",
     "showTitle": false,
     "title": ""
    }
   },
   "source": [
    "**Display**<br>\n",
    "-Visualise the calculated distance column"
   ]
  },
  {
   "cell_type": "code",
   "execution_count": 0,
   "metadata": {
    "application/vnd.databricks.v1+cell": {
     "cellMetadata": {
      "byteLimit": 2048000,
      "implicitDf": true,
      "rowLimit": 10000
     },
     "inputWidgets": {},
     "nuid": "f1d4e7cb-0632-4888-8151-a7870a2c8d0d",
     "showTitle": false,
     "title": ""
    }
   },
   "outputs": [
    {
     "output_type": "display_data",
     "data": {
      "text/html": [
       "<style scoped>\n",
       "  .table-result-container {\n",
       "    max-height: 300px;\n",
       "    overflow: auto;\n",
       "  }\n",
       "  table, th, td {\n",
       "    border: 1px solid black;\n",
       "    border-collapse: collapse;\n",
       "  }\n",
       "  th, td {\n",
       "    padding: 5px;\n",
       "  }\n",
       "  th {\n",
       "    text-align: left;\n",
       "  }\n",
       "</style><div class='table-result-container'><table class='table-result'><thead style='background-color: white'><tr><th>tSaddress</th><th>tDaddress</th><th>tStartLat</th><th>tStartLong</th><th>tEndLat</th><th>tEndLong</th><th>distance_km</th></tr></thead><tbody><tr><td>86 Union Ave, Harare, Zimbabwe</td><td>Kapoto Restaurant, Chelmsford Road, Harare, Zimbabwe</td><td>-17.826984772255297</td><td>31.051359772682186</td><td>-17.7926959</td><td>31.0426273</td><td>3.923551614278735</td></tr><tr><td>Takaruza St, Harare, Zimbabwe</td><td>Kapoto Restaurant, Chelmsford Road, Harare, Zimbabwe</td><td>-17.915548323393555</td><td>30.96475627273321</td><td>-17.7926959</td><td>31.0426273</td><td>15.95424728520021</td></tr><tr><td>1906 Borrowdale Rd, Harare, Zimbabwe</td><td>Kapoto Restaurant, Chelmsford Road, Harare, Zimbabwe</td><td>-17.783321948224483</td><td>31.079784147441387</td><td>-17.7926959</td><td>31.0426273</td><td>4.070358011974687</td></tr><tr><td>3XG4+2Q Harare, Zimbabwe</td><td>Kapoto Restaurant, Chelmsford Road, Harare, Zimbabwe</td><td>-17.924987203496016</td><td>30.95699865370989</td><td>-17.7926959</td><td>31.0426273</td><td>17.277509453648197</td></tr><tr><td>3XG4+2R Harare, Zimbabwe</td><td>Kapoto Restaurant, Chelmsford Road, Harare, Zimbabwe</td><td>-17.924960407333128</td><td>30.957011058926582</td><td>-17.7926959</td><td>31.0426273</td><td>17.27428459616109</td></tr></tbody></table></div>"
      ]
     },
     "metadata": {
      "application/vnd.databricks.v1+output": {
       "addedWidgets": {},
       "aggData": [],
       "aggError": "",
       "aggOverflow": false,
       "aggSchema": [],
       "aggSeriesLimitReached": false,
       "aggType": "",
       "arguments": {},
       "columnCustomDisplayInfos": {},
       "data": [
        [
         "86 Union Ave, Harare, Zimbabwe",
         "Kapoto Restaurant, Chelmsford Road, Harare, Zimbabwe",
         "-17.826984772255297",
         31.051359772682186,
         -17.7926959,
         31.0426273,
         3.923551614278735
        ],
        [
         "Takaruza St, Harare, Zimbabwe",
         "Kapoto Restaurant, Chelmsford Road, Harare, Zimbabwe",
         "-17.915548323393555",
         30.96475627273321,
         -17.7926959,
         31.0426273,
         15.95424728520021
        ],
        [
         "1906 Borrowdale Rd, Harare, Zimbabwe",
         "Kapoto Restaurant, Chelmsford Road, Harare, Zimbabwe",
         "-17.783321948224483",
         31.079784147441387,
         -17.7926959,
         31.0426273,
         4.070358011974687
        ],
        [
         "3XG4+2Q Harare, Zimbabwe",
         "Kapoto Restaurant, Chelmsford Road, Harare, Zimbabwe",
         "-17.924987203496016",
         30.95699865370989,
         -17.7926959,
         31.0426273,
         17.277509453648197
        ],
        [
         "3XG4+2R Harare, Zimbabwe",
         "Kapoto Restaurant, Chelmsford Road, Harare, Zimbabwe",
         "-17.924960407333128",
         30.957011058926582,
         -17.7926959,
         31.0426273,
         17.27428459616109
        ]
       ],
       "datasetInfos": [],
       "dbfsResultPath": null,
       "isJsonSchema": true,
       "metadata": {
        "dataframeName": "_sqldf",
        "executionCount": 12
       },
       "overflow": false,
       "plotOptions": {
        "customPlotOptions": {},
        "displayType": "table",
        "pivotAggregation": null,
        "pivotColumns": null,
        "xColumns": null,
        "yColumns": null
       },
       "removedWidgets": [],
       "schema": [
        {
         "metadata": "{}",
         "name": "tSaddress",
         "type": "\"string\""
        },
        {
         "metadata": "{}",
         "name": "tDaddress",
         "type": "\"string\""
        },
        {
         "metadata": "{}",
         "name": "tStartLat",
         "type": "\"string\""
        },
        {
         "metadata": "{}",
         "name": "tStartLong",
         "type": "\"double\""
        },
        {
         "metadata": "{}",
         "name": "tEndLat",
         "type": "\"double\""
        },
        {
         "metadata": "{}",
         "name": "tEndLong",
         "type": "\"double\""
        },
        {
         "metadata": "{}",
         "name": "distance_km",
         "type": "\"double\""
        }
       ],
       "type": "table"
      }
     },
     "output_type": "display_data"
    }
   ],
   "source": [
    "%sql\n",
    "select* from sites_combined_two limit 5\n"
   ]
  },
  {
   "cell_type": "markdown",
   "metadata": {
    "application/vnd.databricks.v1+cell": {
     "cellMetadata": {
      "byteLimit": 2048000,
      "rowLimit": 10000
     },
     "inputWidgets": {},
     "nuid": "14769e9e-2518-405a-8d4e-f5a23c620a46",
     "showTitle": false,
     "title": ""
    }
   },
   "source": [
    "**Convert site_combined_two df above from SQL to pyspark df**"
   ]
  },
  {
   "cell_type": "code",
   "execution_count": 0,
   "metadata": {
    "application/vnd.databricks.v1+cell": {
     "cellMetadata": {
      "byteLimit": 2048000,
      "rowLimit": 10000
     },
     "inputWidgets": {},
     "nuid": "2907e98c-bfcc-497e-b1b1-0178aa325297",
     "showTitle": false,
     "title": ""
    }
   },
   "outputs": [],
   "source": [
    "\n",
    "df = sqlContext.sql(\"select * from sites_combined_two\")\n",
    "  "
   ]
  },
  {
   "cell_type": "markdown",
   "metadata": {
    "application/vnd.databricks.v1+cell": {
     "cellMetadata": {
      "byteLimit": 2048000,
      "rowLimit": 10000
     },
     "inputWidgets": {},
     "nuid": "65512032-b152-40b0-aecd-d9b38598c684",
     "showTitle": false,
     "title": ""
    }
   },
   "source": [
    "**Final df**<br>\n",
    "-The final df is in pyspark and the distance calculated has been rounded to one decimal form"
   ]
  },
  {
   "cell_type": "code",
   "execution_count": 0,
   "metadata": {
    "application/vnd.databricks.v1+cell": {
     "cellMetadata": {
      "byteLimit": 2048000,
      "rowLimit": 10000
     },
     "inputWidgets": {},
     "nuid": "1855c989-d34e-42a1-9968-7aac4f9bf7a3",
     "showTitle": false,
     "title": ""
    }
   },
   "outputs": [
    {
     "output_type": "display_data",
     "data": {
      "text/html": [
       "<style scoped>\n",
       "  .table-result-container {\n",
       "    max-height: 300px;\n",
       "    overflow: auto;\n",
       "  }\n",
       "  table, th, td {\n",
       "    border: 1px solid black;\n",
       "    border-collapse: collapse;\n",
       "  }\n",
       "  th, td {\n",
       "    padding: 5px;\n",
       "  }\n",
       "  th {\n",
       "    text-align: left;\n",
       "  }\n",
       "</style><div class='table-result-container'><table class='table-result'><thead style='background-color: white'><tr><th>tSaddress</th><th>tDaddress</th><th>tStartLat</th><th>tStartLong</th><th>tEndLat</th><th>tEndLong</th><th>Distance KM</th></tr></thead><tbody><tr><td>86 Union Ave, Harare, Zimbabwe</td><td>Kapoto Restaurant, Chelmsford Road, Harare, Zimbabwe</td><td>-17.826984772255297</td><td>31.051359772682186</td><td>-17.7926959</td><td>31.0426273</td><td>3.9</td></tr><tr><td>Takaruza St, Harare, Zimbabwe</td><td>Kapoto Restaurant, Chelmsford Road, Harare, Zimbabwe</td><td>-17.915548323393555</td><td>30.96475627273321</td><td>-17.7926959</td><td>31.0426273</td><td>16.0</td></tr><tr><td>1906 Borrowdale Rd, Harare, Zimbabwe</td><td>Kapoto Restaurant, Chelmsford Road, Harare, Zimbabwe</td><td>-17.783321948224483</td><td>31.079784147441387</td><td>-17.7926959</td><td>31.0426273</td><td>4.1</td></tr><tr><td>3XG4+2Q Harare, Zimbabwe</td><td>Kapoto Restaurant, Chelmsford Road, Harare, Zimbabwe</td><td>-17.924987203496016</td><td>30.95699865370989</td><td>-17.7926959</td><td>31.0426273</td><td>17.3</td></tr><tr><td>3XG4+2R Harare, Zimbabwe</td><td>Kapoto Restaurant, Chelmsford Road, Harare, Zimbabwe</td><td>-17.924960407333128</td><td>30.957011058926582</td><td>-17.7926959</td><td>31.0426273</td><td>17.3</td></tr></tbody></table></div>"
      ]
     },
     "metadata": {
      "application/vnd.databricks.v1+output": {
       "addedWidgets": {},
       "aggData": [],
       "aggError": "",
       "aggOverflow": false,
       "aggSchema": [],
       "aggSeriesLimitReached": false,
       "aggType": "",
       "arguments": {},
       "columnCustomDisplayInfos": {},
       "data": [
        [
         "86 Union Ave, Harare, Zimbabwe",
         "Kapoto Restaurant, Chelmsford Road, Harare, Zimbabwe",
         "-17.826984772255297",
         31.051359772682186,
         -17.7926959,
         31.0426273,
         "3.9"
        ],
        [
         "Takaruza St, Harare, Zimbabwe",
         "Kapoto Restaurant, Chelmsford Road, Harare, Zimbabwe",
         "-17.915548323393555",
         30.96475627273321,
         -17.7926959,
         31.0426273,
         "16.0"
        ],
        [
         "1906 Borrowdale Rd, Harare, Zimbabwe",
         "Kapoto Restaurant, Chelmsford Road, Harare, Zimbabwe",
         "-17.783321948224483",
         31.079784147441387,
         -17.7926959,
         31.0426273,
         "4.1"
        ],
        [
         "3XG4+2Q Harare, Zimbabwe",
         "Kapoto Restaurant, Chelmsford Road, Harare, Zimbabwe",
         "-17.924987203496016",
         30.95699865370989,
         -17.7926959,
         31.0426273,
         "17.3"
        ],
        [
         "3XG4+2R Harare, Zimbabwe",
         "Kapoto Restaurant, Chelmsford Road, Harare, Zimbabwe",
         "-17.924960407333128",
         30.957011058926582,
         -17.7926959,
         31.0426273,
         "17.3"
        ]
       ],
       "datasetInfos": [],
       "dbfsResultPath": null,
       "isJsonSchema": true,
       "metadata": {},
       "overflow": false,
       "plotOptions": {
        "customPlotOptions": {},
        "displayType": "table",
        "pivotAggregation": null,
        "pivotColumns": null,
        "xColumns": null,
        "yColumns": null
       },
       "removedWidgets": [],
       "schema": [
        {
         "metadata": "{}",
         "name": "tSaddress",
         "type": "\"string\""
        },
        {
         "metadata": "{}",
         "name": "tDaddress",
         "type": "\"string\""
        },
        {
         "metadata": "{}",
         "name": "tStartLat",
         "type": "\"string\""
        },
        {
         "metadata": "{}",
         "name": "tStartLong",
         "type": "\"double\""
        },
        {
         "metadata": "{}",
         "name": "tEndLat",
         "type": "\"double\""
        },
        {
         "metadata": "{}",
         "name": "tEndLong",
         "type": "\"double\""
        },
        {
         "metadata": "{}",
         "name": "Distance KM",
         "type": "\"string\""
        }
       ],
       "type": "table"
      }
     },
     "output_type": "display_data"
    }
   ],
   "source": [
    "df = df.withColumn('Distance KM', (format_number('distance_km', 1))).drop('distance_km')\n",
    "\n",
    "df.limit(5).display()                  \n",
    "                  "
   ]
  }
 ],
 "metadata": {
  "application/vnd.databricks.v1+notebook": {
   "dashboards": [],
   "language": "python",
   "notebookMetadata": {
    "mostRecentlyExecutedCommandWithImplicitDF": {
     "commandId": 2929831174435485,
     "dataframes": [
      "_sqldf"
     ]
    },
    "pythonIndentUnit": 2
   },
   "notebookName": "Area_Data",
   "widgets": {}
  }
 },
 "nbformat": 4,
 "nbformat_minor": 0
}
