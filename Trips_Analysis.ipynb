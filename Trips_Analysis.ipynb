{
 "cells": [
  {
   "cell_type": "markdown",
   "metadata": {
    "application/vnd.databricks.v1+cell": {
     "cellMetadata": {
      "byteLimit": 2048000,
      "rowLimit": 10000
     },
     "inputWidgets": {},
     "nuid": "ce705723-c792-404b-b97c-315c89066423",
     "showTitle": false,
     "title": ""
    }
   },
   "source": [
    "**Background**<br>\n",
    "-The code below was designed to do analysis of trips of  **Indrive** an on demand mobile tax operator.<br>\n",
    "\n",
    "**-The analysis will result in creation of:** <br>\n",
    "1.Time in hours when trip was booked, <br>\n",
    "2.Day of the week. <br> \n",
    "3.Number of trips taken by each customer.<br>\n",
    "4.Time in days  taken between one trip and the other.<br> \n",
    "5.Grouping of customers in buckets based on number of trips they take.<br><br>\n",
    "\n",
    "**NB: Visuals will be created in Power BI**<BR>\n",
    "**The anlaysis was done in  AzureDataBricks** <BR><br>\n",
    "**Import Libraries**"
   ]
  },
  {
   "cell_type": "code",
   "execution_count": 0,
   "metadata": {
    "application/vnd.databricks.v1+cell": {
     "cellMetadata": {
      "byteLimit": 2048000,
      "rowLimit": 10000
     },
     "inputWidgets": {},
     "nuid": "c47a4a54-187e-49ce-b499-d51ba382e7c2",
     "showTitle": false,
     "title": ""
    }
   },
   "outputs": [],
   "source": [
    "import pandas as pd\n",
    "import numpy as np\n",
    "from functools import reduce\n",
    "from pyspark.sql.functions import *\n",
    "from pyspark.sql import SparkSession\n",
    "from pyspark.sql.window import Window\n",
    "from pyspark.sql.functions import col, when\n",
    "from pyspark.sql.functions import unix_timestamp\n",
    "from pyspark.sql.window import Window\n",
    "from pyspark.sql.functions import ntile\n",
    "import pyspark.sql.functions as func\n",
    "from pyspark.sql.functions import col\n",
    "from pyspark.sql import functions as sf"
   ]
  },
  {
   "cell_type": "markdown",
   "metadata": {
    "application/vnd.databricks.v1+cell": {
     "cellMetadata": {
      "byteLimit": 2048000,
      "rowLimit": 10000
     },
     "inputWidgets": {},
     "nuid": "fa800607-63c8-4f52-8562-85b354c098e4",
     "showTitle": false,
     "title": ""
    }
   },
   "source": [
    "**Extract data from spark table**"
   ]
  },
  {
   "cell_type": "code",
   "execution_count": 0,
   "metadata": {
    "application/vnd.databricks.v1+cell": {
     "cellMetadata": {
      "byteLimit": 2048000,
      "rowLimit": 10000
     },
     "inputWidgets": {},
     "nuid": "eb5bbeb9-0591-4003-8fb8-b5e2c1527c3e",
     "showTitle": false,
     "title": ""
    }
   },
   "outputs": [
    {
     "output_type": "display_data",
     "data": {
      "text/html": [
       "<style scoped>\n",
       "  .table-result-container {\n",
       "    max-height: 300px;\n",
       "    overflow: auto;\n",
       "  }\n",
       "  table, th, td {\n",
       "    border: 1px solid black;\n",
       "    border-collapse: collapse;\n",
       "  }\n",
       "  th, td {\n",
       "    padding: 5px;\n",
       "  }\n",
       "  th {\n",
       "    text-align: left;\n",
       "  }\n",
       "</style><div class='table-result-container'><table class='table-result'><thead style='background-color: white'><tr><th>iUserId</th><th>iTripId</th><th>tTripRequestDate</th><th>tDriverArrivedDate</th><th>tStartDate</th><th>tEndDate</th><th>Trip_Status</th></tr></thead><tbody><tr><td>806906</td><td>940227</td><td>2022-02-05 06:55:07</td><td>2022-02-05 07:12:55</td><td>2022-02-05 07:13:06</td><td>2022-02-05 08:06:00</td><td>Finished</td></tr><tr><td>34161</td><td>940228</td><td>2022-02-05 07:19:37</td><td>2022-02-05 07:21:08</td><td>2022-02-05 07:22:37</td><td>2022-02-05 07:25:46</td><td>Finished</td></tr><tr><td>118258</td><td>940229</td><td>2022-02-05 07:26:03</td><td>2022-02-05 07:26:14</td><td>2022-02-05 07:31:53</td><td>2022-02-05 08:26:01</td><td>Finished</td></tr><tr><td>795458</td><td>940230</td><td>2022-02-05 07:26:31</td><td>2022-02-05 07:27:02</td><td>2022-02-05 07:27:14</td><td>2022-02-05 08:19:41</td><td>Finished</td></tr><tr><td>806953</td><td>940231</td><td>2022-02-05 07:30:49</td><td>2022-02-05 07:38:37</td><td>2022-02-05 07:46:09</td><td>2022-02-05 07:54:37</td><td>Finished</td></tr></tbody></table></div>"
      ]
     },
     "metadata": {
      "application/vnd.databricks.v1+output": {
       "addedWidgets": {},
       "aggData": [],
       "aggError": "",
       "aggOverflow": false,
       "aggSchema": [],
       "aggSeriesLimitReached": false,
       "aggType": "",
       "arguments": {},
       "columnCustomDisplayInfos": {},
       "data": [
        [
         "806906",
         "940227",
         "2022-02-05 06:55:07",
         "2022-02-05 07:12:55",
         "2022-02-05 07:13:06",
         "2022-02-05 08:06:00",
         "Finished"
        ],
        [
         "34161",
         "940228",
         "2022-02-05 07:19:37",
         "2022-02-05 07:21:08",
         "2022-02-05 07:22:37",
         "2022-02-05 07:25:46",
         "Finished"
        ],
        [
         "118258",
         "940229",
         "2022-02-05 07:26:03",
         "2022-02-05 07:26:14",
         "2022-02-05 07:31:53",
         "2022-02-05 08:26:01",
         "Finished"
        ],
        [
         "795458",
         "940230",
         "2022-02-05 07:26:31",
         "2022-02-05 07:27:02",
         "2022-02-05 07:27:14",
         "2022-02-05 08:19:41",
         "Finished"
        ],
        [
         "806953",
         "940231",
         "2022-02-05 07:30:49",
         "2022-02-05 07:38:37",
         "2022-02-05 07:46:09",
         "2022-02-05 07:54:37",
         "Finished"
        ]
       ],
       "datasetInfos": [],
       "dbfsResultPath": null,
       "isJsonSchema": true,
       "metadata": {},
       "overflow": false,
       "plotOptions": {
        "customPlotOptions": {},
        "displayType": "table",
        "pivotAggregation": null,
        "pivotColumns": null,
        "xColumns": null,
        "yColumns": null
       },
       "removedWidgets": [],
       "schema": [
        {
         "metadata": "{}",
         "name": "iUserId",
         "type": "\"string\""
        },
        {
         "metadata": "{}",
         "name": "iTripId",
         "type": "\"string\""
        },
        {
         "metadata": "{}",
         "name": "tTripRequestDate",
         "type": "\"string\""
        },
        {
         "metadata": "{}",
         "name": "tDriverArrivedDate",
         "type": "\"string\""
        },
        {
         "metadata": "{}",
         "name": "tStartDate",
         "type": "\"string\""
        },
        {
         "metadata": "{}",
         "name": "tEndDate",
         "type": "\"string\""
        },
        {
         "metadata": "{}",
         "name": "Trip_Status",
         "type": "\"string\""
        }
       ],
       "type": "table"
      }
     },
     "output_type": "display_data"
    }
   ],
   "source": [
    "\n",
    "TripsData= spark.read.table(\"default.data_trips\").dropna()\n",
    "TripsData.limit(5).display()\n"
   ]
  },
  {
   "cell_type": "markdown",
   "metadata": {
    "application/vnd.databricks.v1+cell": {
     "cellMetadata": {
      "byteLimit": 2048000,
      "rowLimit": 10000
     },
     "inputWidgets": {},
     "nuid": "70a05820-d9b6-48dd-84fb-9c8265bb9816",
     "showTitle": false,
     "title": ""
    }
   },
   "source": [
    "**Data Statistical Summary**"
   ]
  },
  {
   "cell_type": "code",
   "execution_count": 0,
   "metadata": {
    "application/vnd.databricks.v1+cell": {
     "cellMetadata": {
      "byteLimit": 2048000,
      "rowLimit": 10000
     },
     "inputWidgets": {},
     "nuid": "3530ab90-4726-4c3e-804e-3edab8dc2c01",
     "showTitle": false,
     "title": ""
    }
   },
   "outputs": [
    {
     "output_type": "display_data",
     "data": {
      "text/html": [
       "<style scoped>\n",
       "  .table-result-container {\n",
       "    max-height: 300px;\n",
       "    overflow: auto;\n",
       "  }\n",
       "  table, th, td {\n",
       "    border: 1px solid black;\n",
       "    border-collapse: collapse;\n",
       "  }\n",
       "  th, td {\n",
       "    padding: 5px;\n",
       "  }\n",
       "  th {\n",
       "    text-align: left;\n",
       "  }\n",
       "</style><div class='table-result-container'><table class='table-result'><thead style='background-color: white'><tr><th>summary</th><th>iUserId</th><th>iTripId</th><th>tTripRequestDate</th><th>tDriverArrivedDate</th><th>tStartDate</th><th>tEndDate</th><th>Trip_Status</th></tr></thead><tbody><tr><td>count</td><td>12262</td><td>12262</td><td>12262</td><td>12262</td><td>12262</td><td>12262</td><td>12262</td></tr><tr><td>mean</td><td>503835.2913302341</td><td>940994.0</td><td>null</td><td>null</td><td>null</td><td>null</td><td>null</td></tr><tr><td>stddev</td><td>351676.4402525227</td><td>3539.590159891396</td><td>null</td><td>null</td><td>null</td><td>null</td><td>null</td></tr><tr><td>min</td><td>100333</td><td>\",Yes,MAIMAI7QDSJKDR6WF,,0,Unsettelled,No,No,Ride,0,,,,,,0,,Regular,0,0,0,,,0,,,0,0,0,0,0,0,0,No,Driver,KMs,KMs,0,,No,No,\"0000-00-00 00:00:00\"</td><td>2022-01-11 17:36:10</td><td>0000-00-00 00:00:00</td><td>0000-00-00 00:00:00</td><td>0000-00-00 00:00:00</td><td>Canceled</td></tr><tr><td>25%</td><td>50475.0</td><td>937928.0</td><td>null</td><td>null</td><td>null</td><td>null</td><td>null</td></tr></tbody></table></div>"
      ]
     },
     "metadata": {
      "application/vnd.databricks.v1+output": {
       "addedWidgets": {},
       "aggData": [],
       "aggError": "",
       "aggOverflow": false,
       "aggSchema": [],
       "aggSeriesLimitReached": false,
       "aggType": "",
       "arguments": {},
       "columnCustomDisplayInfos": {},
       "data": [
        [
         "count",
         "12262",
         "12262",
         "12262",
         "12262",
         "12262",
         "12262",
         "12262"
        ],
        [
         "mean",
         "503835.2913302341",
         "940994.0",
         null,
         null,
         null,
         null,
         null
        ],
        [
         "stddev",
         "351676.4402525227",
         "3539.590159891396",
         null,
         null,
         null,
         null,
         null
        ],
        [
         "min",
         "100333",
         "\",Yes,MAIMAI7QDSJKDR6WF,,0,Unsettelled,No,No,Ride,0,,,,,,0,,Regular,0,0,0,,,0,,,0,0,0,0,0,0,0,No,Driver,KMs,KMs,0,,No,No,\"0000-00-00 00:00:00\"",
         "2022-01-11 17:36:10",
         "0000-00-00 00:00:00",
         "0000-00-00 00:00:00",
         "0000-00-00 00:00:00",
         "Canceled"
        ],
        [
         "25%",
         "50475.0",
         "937928.0",
         null,
         null,
         null,
         null,
         null
        ]
       ],
       "datasetInfos": [],
       "dbfsResultPath": null,
       "isJsonSchema": true,
       "metadata": {},
       "overflow": false,
       "plotOptions": {
        "customPlotOptions": {},
        "displayType": "table",
        "pivotAggregation": null,
        "pivotColumns": null,
        "xColumns": null,
        "yColumns": null
       },
       "removedWidgets": [],
       "schema": [
        {
         "metadata": "{}",
         "name": "summary",
         "type": "\"string\""
        },
        {
         "metadata": "{}",
         "name": "iUserId",
         "type": "\"string\""
        },
        {
         "metadata": "{}",
         "name": "iTripId",
         "type": "\"string\""
        },
        {
         "metadata": "{}",
         "name": "tTripRequestDate",
         "type": "\"string\""
        },
        {
         "metadata": "{}",
         "name": "tDriverArrivedDate",
         "type": "\"string\""
        },
        {
         "metadata": "{}",
         "name": "tStartDate",
         "type": "\"string\""
        },
        {
         "metadata": "{}",
         "name": "tEndDate",
         "type": "\"string\""
        },
        {
         "metadata": "{}",
         "name": "Trip_Status",
         "type": "\"string\""
        }
       ],
       "type": "table"
      }
     },
     "output_type": "display_data"
    }
   ],
   "source": [
    "TripsData.summary().limit(5).display()"
   ]
  },
  {
   "cell_type": "markdown",
   "metadata": {
    "application/vnd.databricks.v1+cell": {
     "cellMetadata": {
      "byteLimit": 2048000,
      "rowLimit": 10000
     },
     "inputWidgets": {},
     "nuid": "378e7bc3-f57a-448c-92a7-7667f8ddcd5e",
     "showTitle": false,
     "title": ""
    }
   },
   "source": [
    "**Windows Time functions**<br>\n",
    "-Use windows functions to generate time "
   ]
  },
  {
   "cell_type": "code",
   "execution_count": 0,
   "metadata": {
    "application/vnd.databricks.v1+cell": {
     "cellMetadata": {
      "byteLimit": 2048000,
      "rowLimit": 10000
     },
     "inputWidgets": {},
     "nuid": "e9ce51a0-949c-43c8-8d83-b51a553f733b",
     "showTitle": false,
     "title": ""
    }
   },
   "outputs": [],
   "source": [
    "\n",
    "DriverArrival = (unix_timestamp('tDriverArrivedDate', \"yyyy-MM-dd HH:mm:ss\") - unix_timestamp('tTripRequestDate', \"yyyy-MM-dd HH:mm:ss\"))\n",
    "trip_duration = (unix_timestamp('tEndDate', \"yyyy-MM-dd HH:mm:ss\") - unix_timestamp('tTripRequestDate', \"yyyy-MM-dd HH:mm:ss\"))\n",
    "Limbo = (unix_timestamp('tEndDate', \"yyyy-MM-dd HH:mm:ss\") - unix_timestamp('tDriverArrivedDate', \"yyyy-MM-dd HH:mm:ss\"))\n"
   ]
  },
  {
   "cell_type": "markdown",
   "metadata": {
    "application/vnd.databricks.v1+cell": {
     "cellMetadata": {
      "byteLimit": 2048000,
      "rowLimit": 10000
     },
     "inputWidgets": {},
     "nuid": "5f8c3778-30b0-4c24-ae61-5ad616bead3f",
     "showTitle": false,
     "title": ""
    }
   },
   "source": [
    "**Calculate the following from time**<br>\n",
    "**1.Day of The Week**<br>\n",
    "**2.Week Day**<br>\n",
    "**3.Trip Request Hour**<br>\n",
    "**4.Time Of Day**"
   ]
  },
  {
   "cell_type": "code",
   "execution_count": 0,
   "metadata": {
    "application/vnd.databricks.v1+cell": {
     "cellMetadata": {
      "byteLimit": 2048000,
      "rowLimit": 10000
     },
     "inputWidgets": {},
     "nuid": "0a00011a-932a-4ff6-a697-04916211b50e",
     "showTitle": false,
     "title": ""
    }
   },
   "outputs": [
    {
     "output_type": "display_data",
     "data": {
      "text/html": [
       "<style scoped>\n",
       "  .table-result-container {\n",
       "    max-height: 300px;\n",
       "    overflow: auto;\n",
       "  }\n",
       "  table, th, td {\n",
       "    border: 1px solid black;\n",
       "    border-collapse: collapse;\n",
       "  }\n",
       "  th, td {\n",
       "    padding: 5px;\n",
       "  }\n",
       "  th {\n",
       "    text-align: left;\n",
       "  }\n",
       "</style><div class='table-result-container'><table class='table-result'><thead style='background-color: white'><tr><th>iUserId</th><th>iTripId</th><th>tTripRequestDate</th><th>tDriverArrivedDate</th><th>tStartDate</th><th>tEndDate</th><th>Trip_Status</th><th>to_timestamp</th><th>DayofTheWeek</th><th>WeekDay</th><th>TripRequestHour</th><th>TimeOfDay</th></tr></thead><tbody><tr><td>806906</td><td>940227</td><td>2022-02-05 06:55:07</td><td>2022-02-05 07:12:55</td><td>2022-02-05 07:13:06</td><td>2022-02-05 08:06:00</td><td>Finished</td><td>2022-02-05T06:55:07Z</td><td>7</td><td>Saturday</td><td>6</td><td>Early Morning</td></tr><tr><td>34161</td><td>940228</td><td>2022-02-05 07:19:37</td><td>2022-02-05 07:21:08</td><td>2022-02-05 07:22:37</td><td>2022-02-05 07:25:46</td><td>Finished</td><td>2022-02-05T07:19:37Z</td><td>7</td><td>Saturday</td><td>7</td><td>Early Morning</td></tr><tr><td>118258</td><td>940229</td><td>2022-02-05 07:26:03</td><td>2022-02-05 07:26:14</td><td>2022-02-05 07:31:53</td><td>2022-02-05 08:26:01</td><td>Finished</td><td>2022-02-05T07:26:03Z</td><td>7</td><td>Saturday</td><td>7</td><td>Early Morning</td></tr><tr><td>795458</td><td>940230</td><td>2022-02-05 07:26:31</td><td>2022-02-05 07:27:02</td><td>2022-02-05 07:27:14</td><td>2022-02-05 08:19:41</td><td>Finished</td><td>2022-02-05T07:26:31Z</td><td>7</td><td>Saturday</td><td>7</td><td>Early Morning</td></tr><tr><td>806953</td><td>940231</td><td>2022-02-05 07:30:49</td><td>2022-02-05 07:38:37</td><td>2022-02-05 07:46:09</td><td>2022-02-05 07:54:37</td><td>Finished</td><td>2022-02-05T07:30:49Z</td><td>7</td><td>Saturday</td><td>7</td><td>Early Morning</td></tr></tbody></table></div>"
      ]
     },
     "metadata": {
      "application/vnd.databricks.v1+output": {
       "addedWidgets": {},
       "aggData": [],
       "aggError": "",
       "aggOverflow": false,
       "aggSchema": [],
       "aggSeriesLimitReached": false,
       "aggType": "",
       "arguments": {},
       "columnCustomDisplayInfos": {},
       "data": [
        [
         "806906",
         "940227",
         "2022-02-05 06:55:07",
         "2022-02-05 07:12:55",
         "2022-02-05 07:13:06",
         "2022-02-05 08:06:00",
         "Finished",
         "2022-02-05T06:55:07Z",
         7,
         "Saturday",
         6,
         "Early Morning"
        ],
        [
         "34161",
         "940228",
         "2022-02-05 07:19:37",
         "2022-02-05 07:21:08",
         "2022-02-05 07:22:37",
         "2022-02-05 07:25:46",
         "Finished",
         "2022-02-05T07:19:37Z",
         7,
         "Saturday",
         7,
         "Early Morning"
        ],
        [
         "118258",
         "940229",
         "2022-02-05 07:26:03",
         "2022-02-05 07:26:14",
         "2022-02-05 07:31:53",
         "2022-02-05 08:26:01",
         "Finished",
         "2022-02-05T07:26:03Z",
         7,
         "Saturday",
         7,
         "Early Morning"
        ],
        [
         "795458",
         "940230",
         "2022-02-05 07:26:31",
         "2022-02-05 07:27:02",
         "2022-02-05 07:27:14",
         "2022-02-05 08:19:41",
         "Finished",
         "2022-02-05T07:26:31Z",
         7,
         "Saturday",
         7,
         "Early Morning"
        ],
        [
         "806953",
         "940231",
         "2022-02-05 07:30:49",
         "2022-02-05 07:38:37",
         "2022-02-05 07:46:09",
         "2022-02-05 07:54:37",
         "Finished",
         "2022-02-05T07:30:49Z",
         7,
         "Saturday",
         7,
         "Early Morning"
        ]
       ],
       "datasetInfos": [],
       "dbfsResultPath": null,
       "isJsonSchema": true,
       "metadata": {},
       "overflow": false,
       "plotOptions": {
        "customPlotOptions": {},
        "displayType": "table",
        "pivotAggregation": null,
        "pivotColumns": null,
        "xColumns": null,
        "yColumns": null
       },
       "removedWidgets": [],
       "schema": [
        {
         "metadata": "{}",
         "name": "iUserId",
         "type": "\"string\""
        },
        {
         "metadata": "{}",
         "name": "iTripId",
         "type": "\"string\""
        },
        {
         "metadata": "{}",
         "name": "tTripRequestDate",
         "type": "\"string\""
        },
        {
         "metadata": "{}",
         "name": "tDriverArrivedDate",
         "type": "\"string\""
        },
        {
         "metadata": "{}",
         "name": "tStartDate",
         "type": "\"string\""
        },
        {
         "metadata": "{}",
         "name": "tEndDate",
         "type": "\"string\""
        },
        {
         "metadata": "{}",
         "name": "Trip_Status",
         "type": "\"string\""
        },
        {
         "metadata": "{}",
         "name": "to_timestamp",
         "type": "\"timestamp\""
        },
        {
         "metadata": "{}",
         "name": "DayofTheWeek",
         "type": "\"integer\""
        },
        {
         "metadata": "{}",
         "name": "WeekDay",
         "type": "\"string\""
        },
        {
         "metadata": "{}",
         "name": "TripRequestHour",
         "type": "\"integer\""
        },
        {
         "metadata": "{}",
         "name": "TimeOfDay",
         "type": "\"string\""
        }
       ],
       "type": "table"
      }
     },
     "output_type": "display_data"
    }
   ],
   "source": [
    "\n",
    "Data_Trips = TripsData.withColumn(\"to_timestamp\",to_timestamp(col(\"tTripRequestDate\"), \"yyyy-MM-dd HH:mm:ss\"))\\\n",
    "                              .withColumn(\"DayofTheWeek\",dayofweek(\"to_timestamp\"))\\\n",
    "                              .withColumn(\"WeekDay\", when (col(\"DayofTheWeek\") == 1,\"Sunday\")\n",
    "                              .when (col(\"DayofTheWeek\") == 2,\"Monday\")\n",
    "                              .when (col(\"DayofTheWeek\") == 3,\"Tuesday\")\n",
    "                              .when (col(\"DayofTheWeek\") == 4,\"Wednesday\")\n",
    "                              .when (col(\"DayofTheWeek\") == 5,\"Thursday\")                       \n",
    "                              .when (col(\"DayofTheWeek\") == 6,\"Friday\")                       \n",
    "                              .when (col(\"DayofTheWeek\") == 7,\"Saturday\"))\\\n",
    "                              .withColumn(\"TripRequestHour\",hour(col(\"to_timestamp\")))\\\n",
    "                              .withColumn(\"TimeOfDay\", when (col(\"TripRequestHour\") == 6,\"Early Morning\")\n",
    "                              .when (col(\"TripRequestHour\") == 7,\"Early Morning\")\n",
    "                              .when (col(\"TripRequestHour\") == 8,\"Early Morning\")\n",
    "                              .when (col(\"TripRequestHour\") == 9,\"Early Morning\")\n",
    "                              .when (col(\"TripRequestHour\") == 10,\"Mid Morning\")                       \n",
    "                              .when (col(\"TripRequestHour\") == 11,\"Mid Morning\")                       \n",
    "                              .when (col(\"TripRequestHour\") == 12,\"Mid Morning\")                        \n",
    "                              .when (col(\"TripRequestHour\") == 13,\"Lunch\")                       \n",
    "                              .when (col(\"TripRequestHour\") == 14,\"Lunch\")\n",
    "                              .when (col(\"TripRequestHour\") == 15,\"Lunch\")                       \n",
    "                              .when (col(\"TripRequestHour\") == 16,\"End Of Day\")                       \n",
    "                              .when (col(\"TripRequestHour\") == 17,\"End Of Day\")                        \n",
    "                              .when (col(\"TripRequestHour\") == 18,\"End Of Day\")                        \n",
    "                              .when (col(\"TripRequestHour\") == 19,\"Night Time\")                        \n",
    "                              .when (col(\"TripRequestHour\") == 20,\"Night Time\")                        \n",
    "                              .when (col(\"TripRequestHour\") == 21,\"Late Night\")                        \n",
    "                              .when (col(\"TripRequestHour\") == 22,\"Late Night\")                        \n",
    "                              .when (col(\"TripRequestHour\") == 23,\"Late Night\")                        \n",
    "                              .when (col(\"TripRequestHour\") == 0,\"Quite Hours\")                       \n",
    "                              .when (col(\"TripRequestHour\") == 1,\"Quite Hours\")                        \n",
    "                              .when (col(\"TripRequestHour\") == 2,\"Quite Hours\")                        \n",
    "                              .when (col(\"TripRequestHour\") == 3,\"Quite Hours\")                       \n",
    "                              .when (col(\"TripRequestHour\") == 4,\"Quite Hours\")                       \n",
    "                              .when (col(\"TripRequestHour\") == 5,\"Quite Hours\")                                           \n",
    "                              .otherwise(\"No Category Yet\"))\\\n",
    "                              \n",
    "Data_Trips.limit(5).display()    \n"
   ]
  },
  {
   "cell_type": "markdown",
   "metadata": {
    "application/vnd.databricks.v1+cell": {
     "cellMetadata": {
      "byteLimit": 2048000,
      "rowLimit": 10000
     },
     "inputWidgets": {},
     "nuid": "ec54fa97-c49b-4b3a-b42b-9741e5e06ac8",
     "showTitle": false,
     "title": ""
    }
   },
   "source": [
    "**Calculate Trips frequency**<br>\n",
    "-Calculate the total number of trips taken by each customer "
   ]
  },
  {
   "cell_type": "code",
   "execution_count": 0,
   "metadata": {
    "application/vnd.databricks.v1+cell": {
     "cellMetadata": {
      "byteLimit": 2048000,
      "rowLimit": 10000
     },
     "inputWidgets": {},
     "nuid": "9470727b-06de-4674-b042-ec6f335f261b",
     "showTitle": false,
     "title": ""
    }
   },
   "outputs": [
    {
     "output_type": "display_data",
     "data": {
      "text/html": [
       "<style scoped>\n",
       "  .table-result-container {\n",
       "    max-height: 300px;\n",
       "    overflow: auto;\n",
       "  }\n",
       "  table, th, td {\n",
       "    border: 1px solid black;\n",
       "    border-collapse: collapse;\n",
       "  }\n",
       "  th, td {\n",
       "    padding: 5px;\n",
       "  }\n",
       "  th {\n",
       "    text-align: left;\n",
       "  }\n",
       "</style><div class='table-result-container'><table class='table-result'><thead style='background-color: white'><tr><th>iUserId</th><th>count</th></tr></thead><tbody><tr><td>813613</td><td>9</td></tr><tr><td>811178</td><td>83</td></tr><tr><td>814577</td><td>2</td></tr><tr><td>18130</td><td>22</td></tr><tr><td>18726</td><td>1</td></tr></tbody></table></div>"
      ]
     },
     "metadata": {
      "application/vnd.databricks.v1+output": {
       "addedWidgets": {},
       "aggData": [],
       "aggError": "",
       "aggOverflow": false,
       "aggSchema": [],
       "aggSeriesLimitReached": false,
       "aggType": "",
       "arguments": {},
       "columnCustomDisplayInfos": {},
       "data": [
        [
         "813613",
         9
        ],
        [
         "811178",
         83
        ],
        [
         "814577",
         2
        ],
        [
         "18130",
         22
        ],
        [
         "18726",
         1
        ]
       ],
       "datasetInfos": [],
       "dbfsResultPath": null,
       "isJsonSchema": true,
       "metadata": {},
       "overflow": false,
       "plotOptions": {
        "customPlotOptions": {},
        "displayType": "table",
        "pivotAggregation": null,
        "pivotColumns": null,
        "xColumns": null,
        "yColumns": null
       },
       "removedWidgets": [],
       "schema": [
        {
         "metadata": "{}",
         "name": "iUserId",
         "type": "\"string\""
        },
        {
         "metadata": "{}",
         "name": "count",
         "type": "\"long\""
        }
       ],
       "type": "table"
      }
     },
     "output_type": "display_data"
    }
   ],
   "source": [
    "\n",
    "Trips_Frequecny  = Data_Trips.groupBy(\"iUserId\").count()\n",
    "Trips_Frequecny.limit(5).display()\n"
   ]
  },
  {
   "cell_type": "markdown",
   "metadata": {
    "application/vnd.databricks.v1+cell": {
     "cellMetadata": {
      "byteLimit": 2048000,
      "rowLimit": 10000
     },
     "inputWidgets": {},
     "nuid": "27339c7e-cf89-42b5-8240-336c6a63af15",
     "showTitle": false,
     "title": ""
    }
   },
   "source": [
    "**Group customer**<br>\n",
    "-Group the customers into buckets of 1 to 5 based on number of trips taken by each customer.<br> \n",
    "-Bucket 1 will be the least and 5 is the highest in trips taken by customers."
   ]
  },
  {
   "cell_type": "code",
   "execution_count": 0,
   "metadata": {
    "application/vnd.databricks.v1+cell": {
     "cellMetadata": {
      "byteLimit": 2048000,
      "rowLimit": 10000
     },
     "inputWidgets": {},
     "nuid": "4183a1ac-6a00-41bd-aa87-cae5c028bfdb",
     "showTitle": false,
     "title": ""
    }
   },
   "outputs": [
    {
     "output_type": "display_data",
     "data": {
      "text/html": [
       "<style scoped>\n",
       "  .table-result-container {\n",
       "    max-height: 300px;\n",
       "    overflow: auto;\n",
       "  }\n",
       "  table, th, td {\n",
       "    border: 1px solid black;\n",
       "    border-collapse: collapse;\n",
       "  }\n",
       "  th, td {\n",
       "    padding: 5px;\n",
       "  }\n",
       "  th {\n",
       "    text-align: left;\n",
       "  }\n",
       "</style><div class='table-result-container'><table class='table-result'><thead style='background-color: white'><tr><th>iUserId</th><th>CountofTripsPerCustomer</th><th>Bucket_Group</th></tr></thead><tbody><tr><td>30881</td><td>178</td><td>5</td></tr><tr><td>809340</td><td>117</td><td>5</td></tr><tr><td>800939</td><td>110</td><td>5</td></tr><tr><td>39574</td><td>108</td><td>5</td></tr><tr><td>800942</td><td>101</td><td>5</td></tr></tbody></table></div>"
      ]
     },
     "metadata": {
      "application/vnd.databricks.v1+output": {
       "addedWidgets": {},
       "aggData": [],
       "aggError": "",
       "aggOverflow": false,
       "aggSchema": [],
       "aggSeriesLimitReached": false,
       "aggType": "",
       "arguments": {},
       "columnCustomDisplayInfos": {},
       "data": [
        [
         "30881",
         178,
         5
        ],
        [
         "809340",
         117,
         5
        ],
        [
         "800939",
         110,
         5
        ],
        [
         "39574",
         108,
         5
        ],
        [
         "800942",
         101,
         5
        ]
       ],
       "datasetInfos": [],
       "dbfsResultPath": null,
       "isJsonSchema": true,
       "metadata": {},
       "overflow": false,
       "plotOptions": {
        "customPlotOptions": {},
        "displayType": "table",
        "pivotAggregation": null,
        "pivotColumns": null,
        "xColumns": null,
        "yColumns": null
       },
       "removedWidgets": [],
       "schema": [
        {
         "metadata": "{}",
         "name": "iUserId",
         "type": "\"string\""
        },
        {
         "metadata": "{}",
         "name": "CountofTripsPerCustomer",
         "type": "\"long\""
        },
        {
         "metadata": "{}",
         "name": "Bucket_Group",
         "type": "\"integer\""
        }
       ],
       "type": "table"
      }
     },
     "output_type": "display_data"
    }
   ],
   "source": [
    "\n",
    "windowSpec = Window.orderBy(\"count\")\n",
    "Frequenttriptakers = Trips_Frequecny.withColumn(\"ntile\",ntile(5).over(windowSpec)).orderBy(col('count').desc()).withColumnRenamed(\"count\", \"CountofTripsPerCustomer\").withColumnRenamed(\"ntile\", \"Bucket_Group\")\n",
    "Frequenttriptakers.limit(5).display()\n"
   ]
  },
  {
   "cell_type": "markdown",
   "metadata": {
    "application/vnd.databricks.v1+cell": {
     "cellMetadata": {
      "byteLimit": 2048000,
      "rowLimit": 10000
     },
     "inputWidgets": {},
     "nuid": "9a8a5f49-5852-4c29-86f3-562fd4d3f01e",
     "showTitle": false,
     "title": ""
    }
   },
   "source": [
    "**Join**<br>\n",
    "-Trips is a result of a join of data trips df above and the frequence trips df above.<br>\n",
    "-The outer join was used."
   ]
  },
  {
   "cell_type": "code",
   "execution_count": 0,
   "metadata": {
    "application/vnd.databricks.v1+cell": {
     "cellMetadata": {
      "byteLimit": 2048000,
      "rowLimit": 10000
     },
     "inputWidgets": {},
     "nuid": "b3dd0cfe-9c85-4673-8bd6-c26e3094f076",
     "showTitle": false,
     "title": ""
    }
   },
   "outputs": [
    {
     "output_type": "display_data",
     "data": {
      "text/html": [
       "<style scoped>\n",
       "  .table-result-container {\n",
       "    max-height: 300px;\n",
       "    overflow: auto;\n",
       "  }\n",
       "  table, th, td {\n",
       "    border: 1px solid black;\n",
       "    border-collapse: collapse;\n",
       "  }\n",
       "  th, td {\n",
       "    padding: 5px;\n",
       "  }\n",
       "  th {\n",
       "    text-align: left;\n",
       "  }\n",
       "</style><div class='table-result-container'><table class='table-result'><thead style='background-color: white'><tr><th>iUserId</th><th>iTripId</th><th>tTripRequestDate</th><th>tDriverArrivedDate</th><th>tStartDate</th><th>tEndDate</th><th>Trip_Status</th><th>to_timestamp</th><th>DayofTheWeek</th><th>WeekDay</th><th>TripRequestHour</th><th>TimeOfDay</th><th>CountofTripsPerCustomer</th><th>Bucket_Group</th></tr></thead><tbody><tr><td>100333</td><td>946259</td><td>2022-03-08 13:40:08</td><td>2022-03-08 14:05:04</td><td>2022-03-08 14:05:04</td><td>2022-03-08 14:05:04</td><td>Canceled</td><td>2022-03-08T13:40:08Z</td><td>3</td><td>Tuesday</td><td>13</td><td>Lunch</td><td>1</td><td>2</td></tr><tr><td>101</td><td>940617</td><td>2022-02-07 07:44:53</td><td>2022-02-07 07:45:40</td><td>2022-02-07 07:48:56</td><td>2022-02-07 08:58:10</td><td>Finished</td><td>2022-02-07T07:44:53Z</td><td>2</td><td>Monday</td><td>7</td><td>Early Morning</td><td>40</td><td>5</td></tr><tr><td>101</td><td>940790</td><td>2022-02-07 19:43:36</td><td>2022-02-07 19:43:49</td><td>2022-02-07 20:41:10</td><td>2022-02-08 05:44:15</td><td>Finished</td><td>2022-02-07T19:43:36Z</td><td>2</td><td>Monday</td><td>19</td><td>Night Time</td><td>40</td><td>5</td></tr><tr><td>101</td><td>940838</td><td>2022-02-08 08:07:17</td><td>2022-02-08 08:07:27</td><td>2022-02-08 08:48:00</td><td>2022-02-08 18:20:35</td><td>Finished</td><td>2022-02-08T08:07:17Z</td><td>3</td><td>Tuesday</td><td>8</td><td>Early Morning</td><td>40</td><td>5</td></tr><tr><td>101</td><td>941001</td><td>2022-02-08 20:35:50</td><td>2022-02-08 20:36:00</td><td>2022-02-08 20:36:29</td><td>2022-02-08 23:12:53</td><td>Finished</td><td>2022-02-08T20:35:50Z</td><td>3</td><td>Tuesday</td><td>20</td><td>Night Time</td><td>40</td><td>5</td></tr></tbody></table></div>"
      ]
     },
     "metadata": {
      "application/vnd.databricks.v1+output": {
       "addedWidgets": {},
       "aggData": [],
       "aggError": "",
       "aggOverflow": false,
       "aggSchema": [],
       "aggSeriesLimitReached": false,
       "aggType": "",
       "arguments": {},
       "columnCustomDisplayInfos": {},
       "data": [
        [
         "100333",
         "946259",
         "2022-03-08 13:40:08",
         "2022-03-08 14:05:04",
         "2022-03-08 14:05:04",
         "2022-03-08 14:05:04",
         "Canceled",
         "2022-03-08T13:40:08Z",
         3,
         "Tuesday",
         13,
         "Lunch",
         1,
         2
        ],
        [
         "101",
         "940617",
         "2022-02-07 07:44:53",
         "2022-02-07 07:45:40",
         "2022-02-07 07:48:56",
         "2022-02-07 08:58:10",
         "Finished",
         "2022-02-07T07:44:53Z",
         2,
         "Monday",
         7,
         "Early Morning",
         40,
         5
        ],
        [
         "101",
         "940790",
         "2022-02-07 19:43:36",
         "2022-02-07 19:43:49",
         "2022-02-07 20:41:10",
         "2022-02-08 05:44:15",
         "Finished",
         "2022-02-07T19:43:36Z",
         2,
         "Monday",
         19,
         "Night Time",
         40,
         5
        ],
        [
         "101",
         "940838",
         "2022-02-08 08:07:17",
         "2022-02-08 08:07:27",
         "2022-02-08 08:48:00",
         "2022-02-08 18:20:35",
         "Finished",
         "2022-02-08T08:07:17Z",
         3,
         "Tuesday",
         8,
         "Early Morning",
         40,
         5
        ],
        [
         "101",
         "941001",
         "2022-02-08 20:35:50",
         "2022-02-08 20:36:00",
         "2022-02-08 20:36:29",
         "2022-02-08 23:12:53",
         "Finished",
         "2022-02-08T20:35:50Z",
         3,
         "Tuesday",
         20,
         "Night Time",
         40,
         5
        ]
       ],
       "datasetInfos": [],
       "dbfsResultPath": null,
       "isJsonSchema": true,
       "metadata": {},
       "overflow": false,
       "plotOptions": {
        "customPlotOptions": {},
        "displayType": "table",
        "pivotAggregation": null,
        "pivotColumns": null,
        "xColumns": null,
        "yColumns": null
       },
       "removedWidgets": [],
       "schema": [
        {
         "metadata": "{}",
         "name": "iUserId",
         "type": "\"string\""
        },
        {
         "metadata": "{}",
         "name": "iTripId",
         "type": "\"string\""
        },
        {
         "metadata": "{}",
         "name": "tTripRequestDate",
         "type": "\"string\""
        },
        {
         "metadata": "{}",
         "name": "tDriverArrivedDate",
         "type": "\"string\""
        },
        {
         "metadata": "{}",
         "name": "tStartDate",
         "type": "\"string\""
        },
        {
         "metadata": "{}",
         "name": "tEndDate",
         "type": "\"string\""
        },
        {
         "metadata": "{}",
         "name": "Trip_Status",
         "type": "\"string\""
        },
        {
         "metadata": "{}",
         "name": "to_timestamp",
         "type": "\"timestamp\""
        },
        {
         "metadata": "{}",
         "name": "DayofTheWeek",
         "type": "\"integer\""
        },
        {
         "metadata": "{}",
         "name": "WeekDay",
         "type": "\"string\""
        },
        {
         "metadata": "{}",
         "name": "TripRequestHour",
         "type": "\"integer\""
        },
        {
         "metadata": "{}",
         "name": "TimeOfDay",
         "type": "\"string\""
        },
        {
         "metadata": "{}",
         "name": "CountofTripsPerCustomer",
         "type": "\"long\""
        },
        {
         "metadata": "{}",
         "name": "Bucket_Group",
         "type": "\"integer\""
        }
       ],
       "type": "table"
      }
     },
     "output_type": "display_data"
    }
   ],
   "source": [
    "\n",
    "Trips = Data_Trips.join(Frequenttriptakers, on = [\"iUserId\"], how = \"outer\")\n",
    "Trips.limit(5).display()\n"
   ]
  },
  {
   "cell_type": "markdown",
   "metadata": {
    "application/vnd.databricks.v1+cell": {
     "cellMetadata": {},
     "inputWidgets": {},
     "nuid": "3d4e8e59-9936-4068-8806-a529ed5384bf",
     "showTitle": false,
     "title": ""
    }
   },
   "source": [
    "**Calculating time lag of trips**<br>\n",
    "-Calculating time when  previous trip was taken."
   ]
  },
  {
   "cell_type": "code",
   "execution_count": 0,
   "metadata": {
    "application/vnd.databricks.v1+cell": {
     "cellMetadata": {
      "byteLimit": 2048000,
      "rowLimit": 10000
     },
     "inputWidgets": {},
     "nuid": "d9c88f19-e70e-4ca0-9192-f7877849b2cf",
     "showTitle": false,
     "title": ""
    }
   },
   "outputs": [
    {
     "output_type": "display_data",
     "data": {
      "text/html": [
       "<style scoped>\n",
       "  .table-result-container {\n",
       "    max-height: 300px;\n",
       "    overflow: auto;\n",
       "  }\n",
       "  table, th, td {\n",
       "    border: 1px solid black;\n",
       "    border-collapse: collapse;\n",
       "  }\n",
       "  th, td {\n",
       "    padding: 5px;\n",
       "  }\n",
       "  th {\n",
       "    text-align: left;\n",
       "  }\n",
       "</style><div class='table-result-container'><table class='table-result'><thead style='background-color: white'><tr><th>iUserId</th><th>iTripId</th><th>tTripRequestDate</th><th>tDriverArrivedDate</th><th>tStartDate</th><th>tEndDate</th><th>Trip_Status</th><th>to_timestamp</th><th>DayofTheWeek</th><th>WeekDay</th><th>TripRequestHour</th><th>TimeOfDay</th><th>CountofTripsPerCustomer</th><th>Bucket_Group</th><th>prevtrip</th></tr></thead><tbody><tr><td>100333</td><td>946259</td><td>2022-03-08 13:40:08</td><td>2022-03-08 14:05:04</td><td>2022-03-08 14:05:04</td><td>2022-03-08 14:05:04</td><td>Canceled</td><td>2022-03-08T13:40:08Z</td><td>3</td><td>Tuesday</td><td>13</td><td>Lunch</td><td>1</td><td>1</td><td>null</td></tr><tr><td>101</td><td>934978</td><td>2022-01-12 09:19:09</td><td>2022-01-12 09:19:30</td><td>2022-01-12 09:19:39</td><td>2022-01-12 10:32:05</td><td>Finished</td><td>2022-01-12T09:19:09Z</td><td>4</td><td>Wednesday</td><td>9</td><td>Early Morning</td><td>40</td><td>5</td><td>null</td></tr><tr><td>101</td><td>935117</td><td>2022-01-12 19:03:24</td><td>2022-01-12 19:03:33</td><td>2022-01-12 19:03:43</td><td>2022-01-12 21:36:20</td><td>Finished</td><td>2022-01-12T19:03:24Z</td><td>4</td><td>Wednesday</td><td>19</td><td>Night Time</td><td>40</td><td>5</td><td>2022-01-12T09:19:09Z</td></tr><tr><td>101</td><td>935222</td><td>2022-01-13 10:30:48</td><td>2022-01-13 10:31:05</td><td>2022-01-13 11:44:02</td><td>2022-01-13 12:55:12</td><td>Finished</td><td>2022-01-13T10:30:48Z</td><td>5</td><td>Thursday</td><td>10</td><td>Mid Morning</td><td>40</td><td>5</td><td>2022-01-12T19:03:24Z</td></tr><tr><td>101</td><td>935469</td><td>2022-01-14 11:03:42</td><td>2022-01-14 11:04:06</td><td>2022-01-14 12:35:56</td><td>2022-01-14 14:49:40</td><td>Finished</td><td>2022-01-14T11:03:42Z</td><td>6</td><td>Friday</td><td>11</td><td>Mid Morning</td><td>40</td><td>5</td><td>2022-01-13T10:30:48Z</td></tr></tbody></table></div>"
      ]
     },
     "metadata": {
      "application/vnd.databricks.v1+output": {
       "addedWidgets": {},
       "aggData": [],
       "aggError": "",
       "aggOverflow": false,
       "aggSchema": [],
       "aggSeriesLimitReached": false,
       "aggType": "",
       "arguments": {},
       "columnCustomDisplayInfos": {},
       "data": [
        [
         "100333",
         "946259",
         "2022-03-08 13:40:08",
         "2022-03-08 14:05:04",
         "2022-03-08 14:05:04",
         "2022-03-08 14:05:04",
         "Canceled",
         "2022-03-08T13:40:08Z",
         3,
         "Tuesday",
         13,
         "Lunch",
         1,
         1,
         null
        ],
        [
         "101",
         "934978",
         "2022-01-12 09:19:09",
         "2022-01-12 09:19:30",
         "2022-01-12 09:19:39",
         "2022-01-12 10:32:05",
         "Finished",
         "2022-01-12T09:19:09Z",
         4,
         "Wednesday",
         9,
         "Early Morning",
         40,
         5,
         null
        ],
        [
         "101",
         "935117",
         "2022-01-12 19:03:24",
         "2022-01-12 19:03:33",
         "2022-01-12 19:03:43",
         "2022-01-12 21:36:20",
         "Finished",
         "2022-01-12T19:03:24Z",
         4,
         "Wednesday",
         19,
         "Night Time",
         40,
         5,
         "2022-01-12T09:19:09Z"
        ],
        [
         "101",
         "935222",
         "2022-01-13 10:30:48",
         "2022-01-13 10:31:05",
         "2022-01-13 11:44:02",
         "2022-01-13 12:55:12",
         "Finished",
         "2022-01-13T10:30:48Z",
         5,
         "Thursday",
         10,
         "Mid Morning",
         40,
         5,
         "2022-01-12T19:03:24Z"
        ],
        [
         "101",
         "935469",
         "2022-01-14 11:03:42",
         "2022-01-14 11:04:06",
         "2022-01-14 12:35:56",
         "2022-01-14 14:49:40",
         "Finished",
         "2022-01-14T11:03:42Z",
         6,
         "Friday",
         11,
         "Mid Morning",
         40,
         5,
         "2022-01-13T10:30:48Z"
        ]
       ],
       "datasetInfos": [],
       "dbfsResultPath": null,
       "isJsonSchema": true,
       "metadata": {},
       "overflow": false,
       "plotOptions": {
        "customPlotOptions": {},
        "displayType": "table",
        "pivotAggregation": null,
        "pivotColumns": null,
        "xColumns": null,
        "yColumns": null
       },
       "removedWidgets": [],
       "schema": [
        {
         "metadata": "{}",
         "name": "iUserId",
         "type": "\"string\""
        },
        {
         "metadata": "{}",
         "name": "iTripId",
         "type": "\"string\""
        },
        {
         "metadata": "{}",
         "name": "tTripRequestDate",
         "type": "\"string\""
        },
        {
         "metadata": "{}",
         "name": "tDriverArrivedDate",
         "type": "\"string\""
        },
        {
         "metadata": "{}",
         "name": "tStartDate",
         "type": "\"string\""
        },
        {
         "metadata": "{}",
         "name": "tEndDate",
         "type": "\"string\""
        },
        {
         "metadata": "{}",
         "name": "Trip_Status",
         "type": "\"string\""
        },
        {
         "metadata": "{}",
         "name": "to_timestamp",
         "type": "\"timestamp\""
        },
        {
         "metadata": "{}",
         "name": "DayofTheWeek",
         "type": "\"integer\""
        },
        {
         "metadata": "{}",
         "name": "WeekDay",
         "type": "\"string\""
        },
        {
         "metadata": "{}",
         "name": "TripRequestHour",
         "type": "\"integer\""
        },
        {
         "metadata": "{}",
         "name": "TimeOfDay",
         "type": "\"string\""
        },
        {
         "metadata": "{}",
         "name": "CountofTripsPerCustomer",
         "type": "\"long\""
        },
        {
         "metadata": "{}",
         "name": "Bucket_Group",
         "type": "\"integer\""
        },
        {
         "metadata": "{}",
         "name": "prevtrip",
         "type": "\"timestamp\""
        }
       ],
       "type": "table"
      }
     },
     "output_type": "display_data"
    }
   ],
   "source": [
    "\n",
    "Trips_lag = Trips.withColumn('prevtrip',func.lag(Trips['to_timestamp']).over(Window.partitionBy(\"iUserId\").orderBy(\"to_timestamp\")))\\\n",
    "\n",
    "Trips_lag.limit(5).display()\n"
   ]
  },
  {
   "cell_type": "markdown",
   "metadata": {
    "application/vnd.databricks.v1+cell": {
     "cellMetadata": {},
     "inputWidgets": {},
     "nuid": "36238aea-1eea-4363-b602-abf79c4a1d24",
     "showTitle": false,
     "title": ""
    }
   },
   "source": [
    "**Calculating time lag of trips in seconds**<br>\n",
    "-There is need to calculate the difference between trips in seconds so as to do a more granular analysis of trips time lags."
   ]
  },
  {
   "cell_type": "code",
   "execution_count": 0,
   "metadata": {
    "application/vnd.databricks.v1+cell": {
     "cellMetadata": {
      "byteLimit": 2048000,
      "rowLimit": 10000
     },
     "inputWidgets": {},
     "nuid": "d0bbd542-db20-4fb7-b056-01e90d7d9df0",
     "showTitle": false,
     "title": ""
    }
   },
   "outputs": [
    {
     "output_type": "display_data",
     "data": {
      "text/html": [
       "<style scoped>\n",
       "  .table-result-container {\n",
       "    max-height: 300px;\n",
       "    overflow: auto;\n",
       "  }\n",
       "  table, th, td {\n",
       "    border: 1px solid black;\n",
       "    border-collapse: collapse;\n",
       "  }\n",
       "  th, td {\n",
       "    padding: 5px;\n",
       "  }\n",
       "  th {\n",
       "    text-align: left;\n",
       "  }\n",
       "</style><div class='table-result-container'><table class='table-result'><thead style='background-color: white'><tr><th>iUserId</th><th>iTripId</th><th>tTripRequestDate</th><th>tDriverArrivedDate</th><th>tStartDate</th><th>tEndDate</th><th>Trip_Status</th><th>to_timestamp</th><th>DayofTheWeek</th><th>WeekDay</th><th>TripRequestHour</th><th>TimeOfDay</th><th>CountofTripsPerCustomer</th><th>Bucket_Group</th><th>prevtrip</th><th>Trip_Time_Difference(Seconds)</th></tr></thead><tbody><tr><td>100333</td><td>946259</td><td>2022-03-08 13:40:08</td><td>2022-03-08 14:05:04</td><td>2022-03-08 14:05:04</td><td>2022-03-08 14:05:04</td><td>Canceled</td><td>2022-03-08T13:40:08Z</td><td>3</td><td>Tuesday</td><td>13</td><td>Lunch</td><td>1</td><td>2</td><td>null</td><td>null</td></tr><tr><td>101</td><td>934978</td><td>2022-01-12 09:19:09</td><td>2022-01-12 09:19:30</td><td>2022-01-12 09:19:39</td><td>2022-01-12 10:32:05</td><td>Finished</td><td>2022-01-12T09:19:09Z</td><td>4</td><td>Wednesday</td><td>9</td><td>Early Morning</td><td>40</td><td>5</td><td>null</td><td>null</td></tr><tr><td>101</td><td>935117</td><td>2022-01-12 19:03:24</td><td>2022-01-12 19:03:33</td><td>2022-01-12 19:03:43</td><td>2022-01-12 21:36:20</td><td>Finished</td><td>2022-01-12T19:03:24Z</td><td>4</td><td>Wednesday</td><td>19</td><td>Night Time</td><td>40</td><td>5</td><td>2022-01-12T09:19:09Z</td><td>35055</td></tr><tr><td>101</td><td>935222</td><td>2022-01-13 10:30:48</td><td>2022-01-13 10:31:05</td><td>2022-01-13 11:44:02</td><td>2022-01-13 12:55:12</td><td>Finished</td><td>2022-01-13T10:30:48Z</td><td>5</td><td>Thursday</td><td>10</td><td>Mid Morning</td><td>40</td><td>5</td><td>2022-01-12T19:03:24Z</td><td>55644</td></tr><tr><td>101</td><td>935469</td><td>2022-01-14 11:03:42</td><td>2022-01-14 11:04:06</td><td>2022-01-14 12:35:56</td><td>2022-01-14 14:49:40</td><td>Finished</td><td>2022-01-14T11:03:42Z</td><td>6</td><td>Friday</td><td>11</td><td>Mid Morning</td><td>40</td><td>5</td><td>2022-01-13T10:30:48Z</td><td>88374</td></tr></tbody></table></div>"
      ]
     },
     "metadata": {
      "application/vnd.databricks.v1+output": {
       "addedWidgets": {},
       "aggData": [],
       "aggError": "",
       "aggOverflow": false,
       "aggSchema": [],
       "aggSeriesLimitReached": false,
       "aggType": "",
       "arguments": {},
       "columnCustomDisplayInfos": {},
       "data": [
        [
         "100333",
         "946259",
         "2022-03-08 13:40:08",
         "2022-03-08 14:05:04",
         "2022-03-08 14:05:04",
         "2022-03-08 14:05:04",
         "Canceled",
         "2022-03-08T13:40:08Z",
         3,
         "Tuesday",
         13,
         "Lunch",
         1,
         2,
         null,
         null
        ],
        [
         "101",
         "934978",
         "2022-01-12 09:19:09",
         "2022-01-12 09:19:30",
         "2022-01-12 09:19:39",
         "2022-01-12 10:32:05",
         "Finished",
         "2022-01-12T09:19:09Z",
         4,
         "Wednesday",
         9,
         "Early Morning",
         40,
         5,
         null,
         null
        ],
        [
         "101",
         "935117",
         "2022-01-12 19:03:24",
         "2022-01-12 19:03:33",
         "2022-01-12 19:03:43",
         "2022-01-12 21:36:20",
         "Finished",
         "2022-01-12T19:03:24Z",
         4,
         "Wednesday",
         19,
         "Night Time",
         40,
         5,
         "2022-01-12T09:19:09Z",
         35055
        ],
        [
         "101",
         "935222",
         "2022-01-13 10:30:48",
         "2022-01-13 10:31:05",
         "2022-01-13 11:44:02",
         "2022-01-13 12:55:12",
         "Finished",
         "2022-01-13T10:30:48Z",
         5,
         "Thursday",
         10,
         "Mid Morning",
         40,
         5,
         "2022-01-12T19:03:24Z",
         55644
        ],
        [
         "101",
         "935469",
         "2022-01-14 11:03:42",
         "2022-01-14 11:04:06",
         "2022-01-14 12:35:56",
         "2022-01-14 14:49:40",
         "Finished",
         "2022-01-14T11:03:42Z",
         6,
         "Friday",
         11,
         "Mid Morning",
         40,
         5,
         "2022-01-13T10:30:48Z",
         88374
        ]
       ],
       "datasetInfos": [],
       "dbfsResultPath": null,
       "isJsonSchema": true,
       "metadata": {},
       "overflow": false,
       "plotOptions": {
        "customPlotOptions": {},
        "displayType": "table",
        "pivotAggregation": null,
        "pivotColumns": null,
        "xColumns": null,
        "yColumns": null
       },
       "removedWidgets": [],
       "schema": [
        {
         "metadata": "{}",
         "name": "iUserId",
         "type": "\"string\""
        },
        {
         "metadata": "{}",
         "name": "iTripId",
         "type": "\"string\""
        },
        {
         "metadata": "{}",
         "name": "tTripRequestDate",
         "type": "\"string\""
        },
        {
         "metadata": "{}",
         "name": "tDriverArrivedDate",
         "type": "\"string\""
        },
        {
         "metadata": "{}",
         "name": "tStartDate",
         "type": "\"string\""
        },
        {
         "metadata": "{}",
         "name": "tEndDate",
         "type": "\"string\""
        },
        {
         "metadata": "{}",
         "name": "Trip_Status",
         "type": "\"string\""
        },
        {
         "metadata": "{}",
         "name": "to_timestamp",
         "type": "\"timestamp\""
        },
        {
         "metadata": "{}",
         "name": "DayofTheWeek",
         "type": "\"integer\""
        },
        {
         "metadata": "{}",
         "name": "WeekDay",
         "type": "\"string\""
        },
        {
         "metadata": "{}",
         "name": "TripRequestHour",
         "type": "\"integer\""
        },
        {
         "metadata": "{}",
         "name": "TimeOfDay",
         "type": "\"string\""
        },
        {
         "metadata": "{}",
         "name": "CountofTripsPerCustomer",
         "type": "\"long\""
        },
        {
         "metadata": "{}",
         "name": "Bucket_Group",
         "type": "\"integer\""
        },
        {
         "metadata": "{}",
         "name": "prevtrip",
         "type": "\"timestamp\""
        },
        {
         "metadata": "{}",
         "name": "Trip_Time_Difference(Seconds)",
         "type": "\"long\""
        }
       ],
       "type": "table"
      }
     },
     "output_type": "display_data"
    }
   ],
   "source": [
    "\n",
    "TimeInBetween_Trips = Trips_lag.withColumn(('Trip_Time_Difference(Seconds)'),((Trips_lag['to_timestamp'].cast(\"long\")-Trips_lag['prevtrip'].cast(\"long\"))))\n",
    "TimeInBetween_Trips.limit(5).display()\n"
   ]
  },
  {
   "cell_type": "markdown",
   "metadata": {
    "application/vnd.databricks.v1+cell": {
     "cellMetadata": {},
     "inputWidgets": {},
     "nuid": "41bee411-f510-4a3e-8935-211acb49e351",
     "showTitle": false,
     "title": ""
    }
   },
   "source": [
    "**Calcuting time in average days from one trip to another**<br>\n",
    "-This is very critical because  it enables us to know how many days at average one customer takes another trip from the previous trip."
   ]
  },
  {
   "cell_type": "code",
   "execution_count": 0,
   "metadata": {
    "application/vnd.databricks.v1+cell": {
     "cellMetadata": {
      "byteLimit": 2048000,
      "rowLimit": 10000
     },
     "inputWidgets": {},
     "nuid": "7c1e01e9-111b-4f54-8eb6-08a9ce5e4b69",
     "showTitle": false,
     "title": ""
    }
   },
   "outputs": [
    {
     "output_type": "display_data",
     "data": {
      "text/html": [
       "<style scoped>\n",
       "  .table-result-container {\n",
       "    max-height: 300px;\n",
       "    overflow: auto;\n",
       "  }\n",
       "  table, th, td {\n",
       "    border: 1px solid black;\n",
       "    border-collapse: collapse;\n",
       "  }\n",
       "  th, td {\n",
       "    padding: 5px;\n",
       "  }\n",
       "  th {\n",
       "    text-align: left;\n",
       "  }\n",
       "</style><div class='table-result-container'><table class='table-result'><thead style='background-color: white'><tr><th>iUserId</th><th>iTripId</th><th>tTripRequestDate</th><th>tDriverArrivedDate</th><th>tStartDate</th><th>tEndDate</th><th>Trip_Status</th><th>to_timestamp</th><th>DayofTheWeek</th><th>WeekDay</th><th>TripRequestHour</th><th>TimeOfDay</th><th>CountofTripsPerCustomer</th><th>Bucket_Group</th><th>prevtrip</th><th>Trip_Time_Difference(Seconds)</th><th>Trip_Time_Difference(Hours)</th><th>Trip_Time_Difference(Days)</th><th>User_Average_Time_Between_Trips(Days)</th><th>Bucket_Group_Average_Time_Between_Trips(Days)</th></tr></thead><tbody><tr><td>10195</td><td>936906</td><td>2022-01-21 13:29:45</td><td>2022-01-21 13:40:02</td><td>2022-01-21 13:40:02</td><td>2022-01-21 13:40:02</td><td>Canceled</td><td>2022-01-21T13:29:45Z</td><td>6</td><td>Friday</td><td>13</td><td>Lunch</td><td>1</td><td>1</td><td>null</td><td>null</td><td>null</td><td>null</td><td>null</td><td>null</td></tr><tr><td>10460</td><td>935879</td><td>2022-01-16 00:25:06</td><td>2022-01-16 00:25:56</td><td>2022-01-16 00:25:56</td><td>2022-01-16 00:25:56</td><td>Canceled</td><td>2022-01-16T00:25:06Z</td><td>1</td><td>Sunday</td><td>0</td><td>Quite Hours</td><td>1</td><td>1</td><td>null</td><td>null</td><td>null</td><td>null</td><td>null</td><td>null</td></tr><tr><td>107477</td><td>935752</td><td>2022-01-15 12:31:51</td><td>2022-01-15 12:51:56</td><td>2022-01-15 12:52:49</td><td>2022-01-15 13:27:35</td><td>Finished</td><td>2022-01-15T12:31:51Z</td><td>7</td><td>Saturday</td><td>12</td><td>Mid Morning</td><td>1</td><td>1</td><td>null</td><td>null</td><td>null</td><td>null</td><td>null</td><td>null</td></tr><tr><td>107772</td><td>937991</td><td>2022-01-26 17:33:44</td><td>2022-01-26 17:47:50</td><td>2022-01-26 17:56:24</td><td>2022-01-26 18:15:52</td><td>Finished</td><td>2022-01-26T17:33:44Z</td><td>4</td><td>Wednesday</td><td>17</td><td>End Of Day</td><td>1</td><td>1</td><td>null</td><td>null</td><td>null</td><td>null</td><td>null</td><td>null</td></tr><tr><td>10933</td><td>938283</td><td>2022-01-28 06:19:35</td><td>2022-01-28 06:30:24</td><td>2022-01-28 06:30:24</td><td>2022-01-28 06:30:24</td><td>Canceled</td><td>2022-01-28T06:19:35Z</td><td>6</td><td>Friday</td><td>6</td><td>Early Morning</td><td>1</td><td>1</td><td>null</td><td>null</td><td>null</td><td>null</td><td>null</td><td>null</td></tr></tbody></table></div>"
      ]
     },
     "metadata": {
      "application/vnd.databricks.v1+output": {
       "addedWidgets": {},
       "aggData": [],
       "aggError": "",
       "aggOverflow": false,
       "aggSchema": [],
       "aggSeriesLimitReached": false,
       "aggType": "",
       "arguments": {},
       "columnCustomDisplayInfos": {},
       "data": [
        [
         "10195",
         "936906",
         "2022-01-21 13:29:45",
         "2022-01-21 13:40:02",
         "2022-01-21 13:40:02",
         "2022-01-21 13:40:02",
         "Canceled",
         "2022-01-21T13:29:45Z",
         6,
         "Friday",
         13,
         "Lunch",
         1,
         1,
         null,
         null,
         null,
         null,
         null,
         null
        ],
        [
         "10460",
         "935879",
         "2022-01-16 00:25:06",
         "2022-01-16 00:25:56",
         "2022-01-16 00:25:56",
         "2022-01-16 00:25:56",
         "Canceled",
         "2022-01-16T00:25:06Z",
         1,
         "Sunday",
         0,
         "Quite Hours",
         1,
         1,
         null,
         null,
         null,
         null,
         null,
         null
        ],
        [
         "107477",
         "935752",
         "2022-01-15 12:31:51",
         "2022-01-15 12:51:56",
         "2022-01-15 12:52:49",
         "2022-01-15 13:27:35",
         "Finished",
         "2022-01-15T12:31:51Z",
         7,
         "Saturday",
         12,
         "Mid Morning",
         1,
         1,
         null,
         null,
         null,
         null,
         null,
         null
        ],
        [
         "107772",
         "937991",
         "2022-01-26 17:33:44",
         "2022-01-26 17:47:50",
         "2022-01-26 17:56:24",
         "2022-01-26 18:15:52",
         "Finished",
         "2022-01-26T17:33:44Z",
         4,
         "Wednesday",
         17,
         "End Of Day",
         1,
         1,
         null,
         null,
         null,
         null,
         null,
         null
        ],
        [
         "10933",
         "938283",
         "2022-01-28 06:19:35",
         "2022-01-28 06:30:24",
         "2022-01-28 06:30:24",
         "2022-01-28 06:30:24",
         "Canceled",
         "2022-01-28T06:19:35Z",
         6,
         "Friday",
         6,
         "Early Morning",
         1,
         1,
         null,
         null,
         null,
         null,
         null,
         null
        ]
       ],
       "datasetInfos": [],
       "dbfsResultPath": null,
       "isJsonSchema": true,
       "metadata": {},
       "overflow": false,
       "plotOptions": {
        "customPlotOptions": {},
        "displayType": "table",
        "pivotAggregation": null,
        "pivotColumns": null,
        "xColumns": null,
        "yColumns": null
       },
       "removedWidgets": [],
       "schema": [
        {
         "metadata": "{}",
         "name": "iUserId",
         "type": "\"string\""
        },
        {
         "metadata": "{}",
         "name": "iTripId",
         "type": "\"string\""
        },
        {
         "metadata": "{}",
         "name": "tTripRequestDate",
         "type": "\"string\""
        },
        {
         "metadata": "{}",
         "name": "tDriverArrivedDate",
         "type": "\"string\""
        },
        {
         "metadata": "{}",
         "name": "tStartDate",
         "type": "\"string\""
        },
        {
         "metadata": "{}",
         "name": "tEndDate",
         "type": "\"string\""
        },
        {
         "metadata": "{}",
         "name": "Trip_Status",
         "type": "\"string\""
        },
        {
         "metadata": "{}",
         "name": "to_timestamp",
         "type": "\"timestamp\""
        },
        {
         "metadata": "{}",
         "name": "DayofTheWeek",
         "type": "\"integer\""
        },
        {
         "metadata": "{}",
         "name": "WeekDay",
         "type": "\"string\""
        },
        {
         "metadata": "{}",
         "name": "TripRequestHour",
         "type": "\"integer\""
        },
        {
         "metadata": "{}",
         "name": "TimeOfDay",
         "type": "\"string\""
        },
        {
         "metadata": "{}",
         "name": "CountofTripsPerCustomer",
         "type": "\"long\""
        },
        {
         "metadata": "{}",
         "name": "Bucket_Group",
         "type": "\"integer\""
        },
        {
         "metadata": "{}",
         "name": "prevtrip",
         "type": "\"timestamp\""
        },
        {
         "metadata": "{}",
         "name": "Trip_Time_Difference(Seconds)",
         "type": "\"long\""
        },
        {
         "metadata": "{}",
         "name": "Trip_Time_Difference(Hours)",
         "type": "\"double\""
        },
        {
         "metadata": "{}",
         "name": "Trip_Time_Difference(Days)",
         "type": "\"double\""
        },
        {
         "metadata": "{}",
         "name": "User_Average_Time_Between_Trips(Days)",
         "type": "\"double\""
        },
        {
         "metadata": "{}",
         "name": "Bucket_Group_Average_Time_Between_Trips(Days)",
         "type": "\"double\""
        }
       ],
       "type": "table"
      }
     },
     "output_type": "display_data"
    }
   ],
   "source": [
    "\n",
    "Trips =    TimeInBetween_Trips.withColumn(\"Trip_Time_Difference(Hours)\",col(\"Trip_Time_Difference(Seconds)\")/ 3600)\\\n",
    "                                                .withColumn(\"Trip_Time_Difference(Days)\",col(\"Trip_Time_Difference(Hours)\")/ 24)\\\n",
    "                                                .withColumn(\"User_Average_Time_Between_Trips(Days)\", avg(\"Trip_Time_Difference(Days)\").over(Window.partitionBy(\"iUserId\")))\\\n",
    "                                                .withColumn(\"Bucket_Group_Average_Time_Between_Trips(Days)\", avg(\"Trip_Time_Difference(Days)\").over(Window.partitionBy(\"Bucket_Group\")))\n",
    "                                                \n",
    "Trips.limit(5).display()\n"
   ]
  },
  {
   "cell_type": "markdown",
   "metadata": {
    "application/vnd.databricks.v1+cell": {
     "cellMetadata": {},
     "inputWidgets": {},
     "nuid": "a5113310-a171-403e-87f8-036b2a12cdc4",
     "showTitle": false,
     "title": ""
    }
   },
   "source": [
    "**Sample**<br>\n",
    "-A filter of a very active customer"
   ]
  },
  {
   "cell_type": "code",
   "execution_count": 0,
   "metadata": {
    "application/vnd.databricks.v1+cell": {
     "cellMetadata": {
      "byteLimit": 2048000,
      "rowLimit": 10000
     },
     "inputWidgets": {},
     "nuid": "578d68d7-0628-4860-91db-0911e9004a27",
     "showTitle": false,
     "title": ""
    }
   },
   "outputs": [
    {
     "output_type": "display_data",
     "data": {
      "text/html": [
       "<style scoped>\n",
       "  .table-result-container {\n",
       "    max-height: 300px;\n",
       "    overflow: auto;\n",
       "  }\n",
       "  table, th, td {\n",
       "    border: 1px solid black;\n",
       "    border-collapse: collapse;\n",
       "  }\n",
       "  th, td {\n",
       "    padding: 5px;\n",
       "  }\n",
       "  th {\n",
       "    text-align: left;\n",
       "  }\n",
       "</style><div class='table-result-container'><table class='table-result'><thead style='background-color: white'><tr><th>iUserId</th><th>iTripId</th><th>tTripRequestDate</th><th>tDriverArrivedDate</th><th>tStartDate</th><th>tEndDate</th><th>Trip_Status</th><th>to_timestamp</th><th>DayofTheWeek</th><th>WeekDay</th><th>TripRequestHour</th><th>TimeOfDay</th><th>CountofTripsPerCustomer</th><th>Bucket_Group</th><th>prevtrip</th><th>Trip_Time_Difference(Seconds)</th><th>Trip_Time_Difference(Hours)</th><th>Trip_Time_Difference(Days)</th><th>User_Average_Time_Between_Trips(Days)</th><th>Bucket_Group_Average_Time_Between_Trips(Days)</th></tr></thead><tbody><tr><td>30881</td><td>934881</td><td>2022-01-11 18:43:10</td><td>2022-01-11 18:43:25</td><td>2022-01-11 18:43:42</td><td>2022-01-11 22:06:34</td><td>Finished</td><td>2022-01-11T18:43:10Z</td><td>3</td><td>Tuesday</td><td>18</td><td>End Of Day</td><td>178</td><td>5</td><td>null</td><td>null</td><td>null</td><td>null</td><td>0.3365615845365139</td><td>2.395852757440276</td></tr><tr><td>30881</td><td>935000</td><td>2022-01-12 11:12:19</td><td>2022-01-12 11:12:25</td><td>2022-01-12 11:12:25</td><td>2022-01-12 11:12:25</td><td>Canceled</td><td>2022-01-12T11:12:19Z</td><td>4</td><td>Wednesday</td><td>11</td><td>Mid Morning</td><td>178</td><td>5</td><td>2022-01-11T18:43:10Z</td><td>59349</td><td>16.485833333333332</td><td>0.6869097222222221</td><td>0.3365615845365139</td><td>2.395852757440276</td></tr><tr><td>30881</td><td>935001</td><td>2022-01-12 11:14:17</td><td>2022-01-12 11:14:23</td><td>2022-01-12 11:14:23</td><td>2022-01-12 11:14:23</td><td>Canceled</td><td>2022-01-12T11:14:17Z</td><td>4</td><td>Wednesday</td><td>11</td><td>Mid Morning</td><td>178</td><td>5</td><td>2022-01-12T11:12:19Z</td><td>118</td><td>0.03277777777777778</td><td>0.001365740740740741</td><td>0.3365615845365139</td><td>2.395852757440276</td></tr><tr><td>30881</td><td>935002</td><td>2022-01-12 11:16:28</td><td>2022-01-12 11:17:24</td><td>2022-01-12 11:17:47</td><td>2022-01-12 14:45:19</td><td>Finished</td><td>2022-01-12T11:16:28Z</td><td>4</td><td>Wednesday</td><td>11</td><td>Mid Morning</td><td>178</td><td>5</td><td>2022-01-12T11:14:17Z</td><td>131</td><td>0.03638888888888889</td><td>0.0015162037037037036</td><td>0.3365615845365139</td><td>2.395852757440276</td></tr><tr><td>30881</td><td>935048</td><td>2022-01-12 15:44:47</td><td>2022-01-12 15:45:01</td><td>2022-01-12 15:45:23</td><td>2022-01-12 17:39:25</td><td>Finished</td><td>2022-01-12T15:44:47Z</td><td>4</td><td>Wednesday</td><td>15</td><td>Lunch</td><td>178</td><td>5</td><td>2022-01-12T11:16:28Z</td><td>16099</td><td>4.4719444444444445</td><td>0.18633101851851852</td><td>0.3365615845365139</td><td>2.395852757440276</td></tr></tbody></table></div>"
      ]
     },
     "metadata": {
      "application/vnd.databricks.v1+output": {
       "addedWidgets": {},
       "aggData": [],
       "aggError": "",
       "aggOverflow": false,
       "aggSchema": [],
       "aggSeriesLimitReached": false,
       "aggType": "",
       "arguments": {},
       "columnCustomDisplayInfos": {},
       "data": [
        [
         "30881",
         "934881",
         "2022-01-11 18:43:10",
         "2022-01-11 18:43:25",
         "2022-01-11 18:43:42",
         "2022-01-11 22:06:34",
         "Finished",
         "2022-01-11T18:43:10Z",
         3,
         "Tuesday",
         18,
         "End Of Day",
         178,
         5,
         null,
         null,
         null,
         null,
         0.3365615845365139,
         2.395852757440276
        ],
        [
         "30881",
         "935000",
         "2022-01-12 11:12:19",
         "2022-01-12 11:12:25",
         "2022-01-12 11:12:25",
         "2022-01-12 11:12:25",
         "Canceled",
         "2022-01-12T11:12:19Z",
         4,
         "Wednesday",
         11,
         "Mid Morning",
         178,
         5,
         "2022-01-11T18:43:10Z",
         59349,
         16.485833333333332,
         0.6869097222222221,
         0.3365615845365139,
         2.395852757440276
        ],
        [
         "30881",
         "935001",
         "2022-01-12 11:14:17",
         "2022-01-12 11:14:23",
         "2022-01-12 11:14:23",
         "2022-01-12 11:14:23",
         "Canceled",
         "2022-01-12T11:14:17Z",
         4,
         "Wednesday",
         11,
         "Mid Morning",
         178,
         5,
         "2022-01-12T11:12:19Z",
         118,
         0.03277777777777778,
         0.001365740740740741,
         0.3365615845365139,
         2.395852757440276
        ],
        [
         "30881",
         "935002",
         "2022-01-12 11:16:28",
         "2022-01-12 11:17:24",
         "2022-01-12 11:17:47",
         "2022-01-12 14:45:19",
         "Finished",
         "2022-01-12T11:16:28Z",
         4,
         "Wednesday",
         11,
         "Mid Morning",
         178,
         5,
         "2022-01-12T11:14:17Z",
         131,
         0.03638888888888889,
         0.0015162037037037036,
         0.3365615845365139,
         2.395852757440276
        ],
        [
         "30881",
         "935048",
         "2022-01-12 15:44:47",
         "2022-01-12 15:45:01",
         "2022-01-12 15:45:23",
         "2022-01-12 17:39:25",
         "Finished",
         "2022-01-12T15:44:47Z",
         4,
         "Wednesday",
         15,
         "Lunch",
         178,
         5,
         "2022-01-12T11:16:28Z",
         16099,
         4.4719444444444445,
         0.18633101851851852,
         0.3365615845365139,
         2.395852757440276
        ]
       ],
       "datasetInfos": [],
       "dbfsResultPath": null,
       "isJsonSchema": true,
       "metadata": {},
       "overflow": false,
       "plotOptions": {
        "customPlotOptions": {},
        "displayType": "table",
        "pivotAggregation": null,
        "pivotColumns": null,
        "xColumns": null,
        "yColumns": null
       },
       "removedWidgets": [],
       "schema": [
        {
         "metadata": "{}",
         "name": "iUserId",
         "type": "\"string\""
        },
        {
         "metadata": "{}",
         "name": "iTripId",
         "type": "\"string\""
        },
        {
         "metadata": "{}",
         "name": "tTripRequestDate",
         "type": "\"string\""
        },
        {
         "metadata": "{}",
         "name": "tDriverArrivedDate",
         "type": "\"string\""
        },
        {
         "metadata": "{}",
         "name": "tStartDate",
         "type": "\"string\""
        },
        {
         "metadata": "{}",
         "name": "tEndDate",
         "type": "\"string\""
        },
        {
         "metadata": "{}",
         "name": "Trip_Status",
         "type": "\"string\""
        },
        {
         "metadata": "{}",
         "name": "to_timestamp",
         "type": "\"timestamp\""
        },
        {
         "metadata": "{}",
         "name": "DayofTheWeek",
         "type": "\"integer\""
        },
        {
         "metadata": "{}",
         "name": "WeekDay",
         "type": "\"string\""
        },
        {
         "metadata": "{}",
         "name": "TripRequestHour",
         "type": "\"integer\""
        },
        {
         "metadata": "{}",
         "name": "TimeOfDay",
         "type": "\"string\""
        },
        {
         "metadata": "{}",
         "name": "CountofTripsPerCustomer",
         "type": "\"long\""
        },
        {
         "metadata": "{}",
         "name": "Bucket_Group",
         "type": "\"integer\""
        },
        {
         "metadata": "{}",
         "name": "prevtrip",
         "type": "\"timestamp\""
        },
        {
         "metadata": "{}",
         "name": "Trip_Time_Difference(Seconds)",
         "type": "\"long\""
        },
        {
         "metadata": "{}",
         "name": "Trip_Time_Difference(Hours)",
         "type": "\"double\""
        },
        {
         "metadata": "{}",
         "name": "Trip_Time_Difference(Days)",
         "type": "\"double\""
        },
        {
         "metadata": "{}",
         "name": "User_Average_Time_Between_Trips(Days)",
         "type": "\"double\""
        },
        {
         "metadata": "{}",
         "name": "Bucket_Group_Average_Time_Between_Trips(Days)",
         "type": "\"double\""
        }
       ],
       "type": "table"
      }
     },
     "output_type": "display_data"
    }
   ],
   "source": [
    "\n",
    "Sample = Trips.filter((Trips.iUserId == \"30881\")).limit(5).display()\n"
   ]
  }
 ],
 "metadata": {
  "application/vnd.databricks.v1+notebook": {
   "dashboards": [],
   "language": "python",
   "notebookMetadata": {
    "pythonIndentUnit": 2
   },
   "notebookName": "Trips_Analysis",
   "widgets": {}
  }
 },
 "nbformat": 4,
 "nbformat_minor": 0
}
